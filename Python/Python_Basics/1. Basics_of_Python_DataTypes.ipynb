{
  "nbformat": 4,
  "nbformat_minor": 0,
  "metadata": {
    "colab": {
      "name": "Basics of Python DataTypes.ipynb",
      "provenance": [],
      "collapsed_sections": [
        "_ktXxGdOXvnj",
        "WuGYlZyPZrYk",
        "3hcveEUub33E",
        "hpYgBbFSsgoL"
      ]
    },
    "kernelspec": {
      "name": "python3",
      "display_name": "Python 3"
    },
    "language_info": {
      "name": "python"
    }
  },
  "cells": [
    {
      "cell_type": "markdown",
      "metadata": {
        "id": "k6-EFL5iMRXv"
      },
      "source": [
        "#**Variables in Python**"
      ]
    },
    {
      "cell_type": "markdown",
      "metadata": {
        "id": "jHAL1if6Mi7K"
      },
      "source": [
        "\n",
        "\n",
        "*   variable name starts with an alphabet or '_'\n",
        "*   variable name cannot have a digit in staring\n",
        "\n",
        "*   variable name contains alphabets (lowercase,uppercase), digits and underscore\n",
        "*   variable names are case sensitive\n",
        "\n",
        "\n",
        "\n"
      ]
    },
    {
      "cell_type": "code",
      "metadata": {
        "id": "cEpipzz-NSzt"
      },
      "source": [
        "# Correct variable names\n",
        "a_variable = 12\n",
        "_car1 = \"Avendator\"\n",
        "MY_favourite_avenger_10 = \"Spider Man\"\n",
        "condition2 = False"
      ],
      "execution_count": null,
      "outputs": []
    },
    {
      "cell_type": "code",
      "metadata": {
        "colab": {
          "base_uri": "https://localhost:8080/",
          "height": 130
        },
        "id": "aIRvVc08OSAB",
        "outputId": "7cc564b6-207c-4cf8-8d1a-00ffc52d6d58"
      },
      "source": [
        "# Incorrect variable names\n",
        "1_car = \"Urus\"\n",
        "Endsem_% = 98\n",
        "Full Name = \"Jack Dorsey\""
      ],
      "execution_count": null,
      "outputs": [
        {
          "output_type": "error",
          "ename": "SyntaxError",
          "evalue": "ignored",
          "traceback": [
            "\u001b[0;36m  File \u001b[0;32m\"<ipython-input-3-b41e5b76feab>\"\u001b[0;36m, line \u001b[0;32m2\u001b[0m\n\u001b[0;31m    1_car = \"Urus\"\u001b[0m\n\u001b[0m     ^\u001b[0m\n\u001b[0;31mSyntaxError\u001b[0m\u001b[0;31m:\u001b[0m invalid token\n"
          ]
        }
      ]
    },
    {
      "cell_type": "markdown",
      "metadata": {
        "id": "UMUPz4F2QwWj"
      },
      "source": [
        "# **Different data types in Python**"
      ]
    },
    {
      "cell_type": "markdown",
      "metadata": {
        "id": "ipuk3w8TRCwl"
      },
      "source": [
        "##Integer"
      ]
    },
    {
      "cell_type": "code",
      "metadata": {
        "id": "SNxsuZjERLrb"
      },
      "source": [
        "age = 54"
      ],
      "execution_count": null,
      "outputs": []
    },
    {
      "cell_type": "code",
      "metadata": {
        "colab": {
          "base_uri": "https://localhost:8080/"
        },
        "id": "QMrdGZlsRb8Y",
        "outputId": "253face4-048c-48bf-af4f-5a5744334752"
      },
      "source": [
        "age"
      ],
      "execution_count": null,
      "outputs": [
        {
          "output_type": "execute_result",
          "data": {
            "text/plain": [
              "54"
            ]
          },
          "metadata": {},
          "execution_count": 5
        }
      ]
    },
    {
      "cell_type": "code",
      "metadata": {
        "colab": {
          "base_uri": "https://localhost:8080/"
        },
        "id": "WYIOKV87RdDy",
        "outputId": "d4c35328-e3c2-4c93-e717-c57360d0f77c"
      },
      "source": [
        "type(age)"
      ],
      "execution_count": null,
      "outputs": [
        {
          "output_type": "execute_result",
          "data": {
            "text/plain": [
              "int"
            ]
          },
          "metadata": {},
          "execution_count": 6
        }
      ]
    },
    {
      "cell_type": "markdown",
      "metadata": {
        "id": "UHBD3PVKR66j"
      },
      "source": [
        "No need of using long, short, longlong, unsigned in python,\n",
        "it automatically detects data type "
      ]
    },
    {
      "cell_type": "code",
      "metadata": {
        "id": "MyeeU2vuRh5q"
      },
      "source": [
        "number = 32450010012378"
      ],
      "execution_count": null,
      "outputs": []
    },
    {
      "cell_type": "code",
      "metadata": {
        "colab": {
          "base_uri": "https://localhost:8080/"
        },
        "id": "PtXf7ArwRt93",
        "outputId": "32884bdb-e933-40dc-e5d6-1a142650bd3b"
      },
      "source": [
        "number"
      ],
      "execution_count": null,
      "outputs": [
        {
          "output_type": "execute_result",
          "data": {
            "text/plain": [
              "32450010012378"
            ]
          },
          "metadata": {},
          "execution_count": 8
        }
      ]
    },
    {
      "cell_type": "code",
      "metadata": {
        "colab": {
          "base_uri": "https://localhost:8080/"
        },
        "id": "a73lu_fxR1Bz",
        "outputId": "203bf09e-3238-4361-c573-e6813d212ffb"
      },
      "source": [
        "type(number)"
      ],
      "execution_count": null,
      "outputs": [
        {
          "output_type": "execute_result",
          "data": {
            "text/plain": [
              "int"
            ]
          },
          "metadata": {},
          "execution_count": 9
        }
      ]
    },
    {
      "cell_type": "markdown",
      "metadata": {
        "id": "3q7b89OQTOwh"
      },
      "source": [
        "## Float"
      ]
    },
    {
      "cell_type": "code",
      "metadata": {
        "id": "ebjmnWKWTh1o"
      },
      "source": [
        "pi = 3.141592653589793238"
      ],
      "execution_count": null,
      "outputs": []
    },
    {
      "cell_type": "code",
      "metadata": {
        "colab": {
          "base_uri": "https://localhost:8080/"
        },
        "id": "VPRtGBOJUAi-",
        "outputId": "0cfc15a1-d3ff-43b1-d6c0-543afe88ef06"
      },
      "source": [
        "pi # Observe value of pi is truncated"
      ],
      "execution_count": null,
      "outputs": [
        {
          "output_type": "execute_result",
          "data": {
            "text/plain": [
              "3.141592653589793"
            ]
          },
          "metadata": {},
          "execution_count": 28
        }
      ]
    },
    {
      "cell_type": "code",
      "metadata": {
        "colab": {
          "base_uri": "https://localhost:8080/"
        },
        "id": "8h6JDLP0ULx2",
        "outputId": "134a57f0-9ed7-42f4-aabd-1a6f42acfce3"
      },
      "source": [
        "type(pi)"
      ],
      "execution_count": null,
      "outputs": [
        {
          "output_type": "execute_result",
          "data": {
            "text/plain": [
              "float"
            ]
          },
          "metadata": {},
          "execution_count": 29
        }
      ]
    },
    {
      "cell_type": "code",
      "metadata": {
        "id": "9T_03Mu6URHv"
      },
      "source": [
        "a_number = 19."
      ],
      "execution_count": null,
      "outputs": []
    },
    {
      "cell_type": "code",
      "metadata": {
        "colab": {
          "base_uri": "https://localhost:8080/"
        },
        "id": "ZYysZ1RZUVU1",
        "outputId": "6f938c1b-9895-404f-c337-cbda1839e7d8"
      },
      "source": [
        "a_number"
      ],
      "execution_count": null,
      "outputs": [
        {
          "output_type": "execute_result",
          "data": {
            "text/plain": [
              "19.0"
            ]
          },
          "metadata": {},
          "execution_count": 31
        }
      ]
    },
    {
      "cell_type": "code",
      "metadata": {
        "colab": {
          "base_uri": "https://localhost:8080/"
        },
        "id": "FTHVOcD_UZhp",
        "outputId": "f9fa133d-3b4e-439c-d8a6-4eba851f799e"
      },
      "source": [
        "type(a_number) # Using '.' will automatically converts a number to float"
      ],
      "execution_count": null,
      "outputs": [
        {
          "output_type": "execute_result",
          "data": {
            "text/plain": [
              "float"
            ]
          },
          "metadata": {},
          "execution_count": 32
        }
      ]
    },
    {
      "cell_type": "markdown",
      "metadata": {
        "id": "qYITwhMqU67L"
      },
      "source": [
        "Floating point numbers can also be written in form of e (Scientific Notation)"
      ]
    },
    {
      "cell_type": "code",
      "metadata": {
        "id": "3hv8ebRTQYft"
      },
      "source": [
        "ten_power = 3e-2"
      ],
      "execution_count": null,
      "outputs": []
    },
    {
      "cell_type": "code",
      "metadata": {
        "colab": {
          "base_uri": "https://localhost:8080/"
        },
        "id": "LlgTMLCDVr4y",
        "outputId": "655c76d7-7cad-42f0-d8ef-8c25526a73df"
      },
      "source": [
        "ten_power"
      ],
      "execution_count": null,
      "outputs": [
        {
          "output_type": "execute_result",
          "data": {
            "text/plain": [
              "0.03"
            ]
          },
          "metadata": {},
          "execution_count": 34
        }
      ]
    },
    {
      "cell_type": "code",
      "metadata": {
        "colab": {
          "base_uri": "https://localhost:8080/"
        },
        "id": "HZHy7YkXVzGY",
        "outputId": "e46f4a87-bdc7-4f01-eae3-7d1b9e61f95e"
      },
      "source": [
        "type(ten_power)"
      ],
      "execution_count": null,
      "outputs": [
        {
          "output_type": "execute_result",
          "data": {
            "text/plain": [
              "float"
            ]
          },
          "metadata": {},
          "execution_count": 35
        }
      ]
    },
    {
      "cell_type": "code",
      "metadata": {
        "colab": {
          "base_uri": "https://localhost:8080/"
        },
        "id": "5syB3pnqV58x",
        "outputId": "f0c6d442-d2d8-4958-da5d-13f629e9bc56"
      },
      "source": [
        "avogardo_number = 6.02214076e23\n",
        "avogardo_number"
      ],
      "execution_count": null,
      "outputs": [
        {
          "output_type": "execute_result",
          "data": {
            "text/plain": [
              "6.02214076e+23"
            ]
          },
          "metadata": {},
          "execution_count": 36
        }
      ]
    },
    {
      "cell_type": "code",
      "metadata": {
        "colab": {
          "base_uri": "https://localhost:8080/"
        },
        "id": "XwV5Yy1rWX0b",
        "outputId": "b4f2889a-4156-409c-ce64-6ca24521ee7f"
      },
      "source": [
        "type(avogardo_number)"
      ],
      "execution_count": null,
      "outputs": [
        {
          "output_type": "execute_result",
          "data": {
            "text/plain": [
              "float"
            ]
          },
          "metadata": {},
          "execution_count": 37
        }
      ]
    },
    {
      "cell_type": "markdown",
      "metadata": {
        "id": "HBr37XUaWkdD"
      },
      "source": [
        "Converting float to other datatypes"
      ]
    },
    {
      "cell_type": "code",
      "metadata": {
        "colab": {
          "base_uri": "https://localhost:8080/"
        },
        "id": "SnJntC_bWdBH",
        "outputId": "3edfcfd7-5e4a-4bc8-e44e-39b552d8b61f"
      },
      "source": [
        "pi"
      ],
      "execution_count": null,
      "outputs": [
        {
          "output_type": "execute_result",
          "data": {
            "text/plain": [
              "3.141592653589793"
            ]
          },
          "metadata": {},
          "execution_count": 38
        }
      ]
    },
    {
      "cell_type": "code",
      "metadata": {
        "colab": {
          "base_uri": "https://localhost:8080/"
        },
        "id": "C0E4413AW6K9",
        "outputId": "7ab0e8f5-a7cd-46e7-b09c-7839fba6b1a3"
      },
      "source": [
        "type(pi)"
      ],
      "execution_count": null,
      "outputs": [
        {
          "output_type": "execute_result",
          "data": {
            "text/plain": [
              "float"
            ]
          },
          "metadata": {},
          "execution_count": 39
        }
      ]
    },
    {
      "cell_type": "code",
      "metadata": {
        "colab": {
          "base_uri": "https://localhost:8080/"
        },
        "id": "kXqdwd-DW8dF",
        "outputId": "573600c7-ff35-43e8-8469-a3d087d862ac"
      },
      "source": [
        "int(pi)"
      ],
      "execution_count": null,
      "outputs": [
        {
          "output_type": "execute_result",
          "data": {
            "text/plain": [
              "3"
            ]
          },
          "metadata": {},
          "execution_count": 40
        }
      ]
    },
    {
      "cell_type": "code",
      "metadata": {
        "colab": {
          "base_uri": "https://localhost:8080/"
        },
        "id": "3QIdFGdLXADW",
        "outputId": "372ca803-2590-4bef-9a2a-f107b5f07fd9"
      },
      "source": [
        "avogardo_number"
      ],
      "execution_count": null,
      "outputs": [
        {
          "output_type": "execute_result",
          "data": {
            "text/plain": [
              "6.02214076e+23"
            ]
          },
          "metadata": {},
          "execution_count": 41
        }
      ]
    },
    {
      "cell_type": "code",
      "metadata": {
        "colab": {
          "base_uri": "https://localhost:8080/"
        },
        "id": "cg_uKTF5XClx",
        "outputId": "51d64404-f891-45de-b2ce-710a9871bf96"
      },
      "source": [
        "type(avogardo_number)"
      ],
      "execution_count": null,
      "outputs": [
        {
          "output_type": "execute_result",
          "data": {
            "text/plain": [
              "float"
            ]
          },
          "metadata": {},
          "execution_count": 42
        }
      ]
    },
    {
      "cell_type": "code",
      "metadata": {
        "colab": {
          "base_uri": "https://localhost:8080/"
        },
        "id": "Nh6vcgMuXFUJ",
        "outputId": "b7b88cca-101f-41a1-800d-e6d6c7e04df1"
      },
      "source": [
        "int(avogardo_number)"
      ],
      "execution_count": null,
      "outputs": [
        {
          "output_type": "execute_result",
          "data": {
            "text/plain": [
              "602214075999999987023872"
            ]
          },
          "metadata": {},
          "execution_count": 43
        }
      ]
    },
    {
      "cell_type": "markdown",
      "metadata": {
        "id": "_ktXxGdOXvnj"
      },
      "source": [
        "## Boolean"
      ]
    },
    {
      "cell_type": "code",
      "metadata": {
        "id": "uycix22tX7AC"
      },
      "source": [
        "monday_today = False"
      ],
      "execution_count": null,
      "outputs": []
    },
    {
      "cell_type": "code",
      "metadata": {
        "colab": {
          "base_uri": "https://localhost:8080/"
        },
        "id": "5hn87RCRYPVy",
        "outputId": "b3125e9d-cd45-4965-d2ac-4830b23b8751"
      },
      "source": [
        "monday_today"
      ],
      "execution_count": null,
      "outputs": [
        {
          "output_type": "execute_result",
          "data": {
            "text/plain": [
              "False"
            ]
          },
          "metadata": {},
          "execution_count": 45
        }
      ]
    },
    {
      "cell_type": "code",
      "metadata": {
        "colab": {
          "base_uri": "https://localhost:8080/"
        },
        "id": "aRC38vMAYSfI",
        "outputId": "1a75843c-3dd5-4549-a804-b4ace91cf6af"
      },
      "source": [
        "type(monday_today)"
      ],
      "execution_count": null,
      "outputs": [
        {
          "output_type": "execute_result",
          "data": {
            "text/plain": [
              "bool"
            ]
          },
          "metadata": {},
          "execution_count": 46
        }
      ]
    },
    {
      "cell_type": "markdown",
      "metadata": {
        "id": "LHQfxcrgYw_k"
      },
      "source": [
        "Bool values convert into numerical datatype when we apply any kind of arithmatic operation\n",
        "\n",
        "*   False = 0\n",
        "*   True  = 1\n",
        "\n"
      ]
    },
    {
      "cell_type": "code",
      "metadata": {
        "colab": {
          "base_uri": "https://localhost:8080/"
        },
        "id": "e159L0OiY8Fv",
        "outputId": "f360829e-b051-4f89-8db6-d1adda7c47a6"
      },
      "source": [
        "5 + False"
      ],
      "execution_count": null,
      "outputs": [
        {
          "output_type": "execute_result",
          "data": {
            "text/plain": [
              "5"
            ]
          },
          "metadata": {},
          "execution_count": 47
        }
      ]
    },
    {
      "cell_type": "code",
      "metadata": {
        "colab": {
          "base_uri": "https://localhost:8080/"
        },
        "id": "-W9q66jJZFTZ",
        "outputId": "8ed15c91-d62f-439e-ac8c-5d242751efe7"
      },
      "source": [
        "5 + True"
      ],
      "execution_count": null,
      "outputs": [
        {
          "output_type": "execute_result",
          "data": {
            "text/plain": [
              "6"
            ]
          },
          "metadata": {},
          "execution_count": 48
        }
      ]
    },
    {
      "cell_type": "markdown",
      "metadata": {
        "id": "WuGYlZyPZrYk"
      },
      "source": [
        "##None"
      ]
    },
    {
      "cell_type": "code",
      "metadata": {
        "id": "OtIzulzNZkSu"
      },
      "source": [
        "later_use = None"
      ],
      "execution_count": null,
      "outputs": []
    },
    {
      "cell_type": "code",
      "metadata": {
        "colab": {
          "base_uri": "https://localhost:8080/"
        },
        "id": "KV9CoOJcauP-",
        "outputId": "e493763e-1bb6-4fd4-8987-3fcaa729c61f"
      },
      "source": [
        "type(later_use)"
      ],
      "execution_count": null,
      "outputs": [
        {
          "output_type": "execute_result",
          "data": {
            "text/plain": [
              "NoneType"
            ]
          },
          "metadata": {},
          "execution_count": 50
        }
      ]
    },
    {
      "cell_type": "markdown",
      "metadata": {
        "id": "3hcveEUub33E"
      },
      "source": [
        "## String"
      ]
    },
    {
      "cell_type": "markdown",
      "metadata": {
        "id": "u23OQdumcsJM"
      },
      "source": [
        "We can use single or double quotes for Strings"
      ]
    },
    {
      "cell_type": "code",
      "metadata": {
        "id": "3iWmFpr0b7Cu"
      },
      "source": [
        "name = \"Ajay\""
      ],
      "execution_count": null,
      "outputs": []
    },
    {
      "cell_type": "code",
      "metadata": {
        "id": "jJ7XZ1iMcdDl"
      },
      "source": [
        "name1 = 'Arun'"
      ],
      "execution_count": null,
      "outputs": []
    },
    {
      "cell_type": "code",
      "metadata": {
        "colab": {
          "base_uri": "https://localhost:8080/",
          "height": 37
        },
        "id": "0veaSOxJb-2A",
        "outputId": "6ad5c2f1-030c-4bbf-8789-bab085050eff"
      },
      "source": [
        "name"
      ],
      "execution_count": null,
      "outputs": [
        {
          "output_type": "execute_result",
          "data": {
            "application/vnd.google.colaboratory.intrinsic+json": {
              "type": "string"
            },
            "text/plain": [
              "'Ajay'"
            ]
          },
          "metadata": {},
          "execution_count": 53
        }
      ]
    },
    {
      "cell_type": "code",
      "metadata": {
        "colab": {
          "base_uri": "https://localhost:8080/",
          "height": 37
        },
        "id": "LmDvtFB1cg-N",
        "outputId": "3ceed6a3-8f8a-4c82-943c-fe1f54c794a7"
      },
      "source": [
        "name1"
      ],
      "execution_count": null,
      "outputs": [
        {
          "output_type": "execute_result",
          "data": {
            "application/vnd.google.colaboratory.intrinsic+json": {
              "type": "string"
            },
            "text/plain": [
              "'Arun'"
            ]
          },
          "metadata": {},
          "execution_count": 54
        }
      ]
    },
    {
      "cell_type": "code",
      "metadata": {
        "colab": {
          "base_uri": "https://localhost:8080/"
        },
        "id": "DYq_tB5zcAbK",
        "outputId": "b0169cfb-a514-40c1-f187-fa13d7a17245"
      },
      "source": [
        "type(name)"
      ],
      "execution_count": null,
      "outputs": [
        {
          "output_type": "execute_result",
          "data": {
            "text/plain": [
              "str"
            ]
          },
          "metadata": {},
          "execution_count": 55
        }
      ]
    },
    {
      "cell_type": "code",
      "metadata": {
        "colab": {
          "base_uri": "https://localhost:8080/"
        },
        "id": "VVFVmRw-cibt",
        "outputId": "1e164652-9199-486e-f5a8-4f72a6ed6a90"
      },
      "source": [
        "type(name1)"
      ],
      "execution_count": null,
      "outputs": [
        {
          "output_type": "execute_result",
          "data": {
            "text/plain": [
              "str"
            ]
          },
          "metadata": {},
          "execution_count": 56
        }
      ]
    },
    {
      "cell_type": "markdown",
      "metadata": {
        "id": "IpHrM2mScwyo"
      },
      "source": [
        "If the sentence contains single quote or double quote use front slash in front of that quote."
      ]
    },
    {
      "cell_type": "code",
      "metadata": {
        "id": "QgTkCEdGa1gd"
      },
      "source": [
        "sent1 = 'Hello, My name is Rahul'"
      ],
      "execution_count": null,
      "outputs": []
    },
    {
      "cell_type": "code",
      "metadata": {
        "colab": {
          "base_uri": "https://localhost:8080/",
          "height": 37
        },
        "id": "t6xHNLF8dcCm",
        "outputId": "4d7630e9-f9a8-47e5-f3c5-1644163ffeb0"
      },
      "source": [
        "sent1"
      ],
      "execution_count": null,
      "outputs": [
        {
          "output_type": "execute_result",
          "data": {
            "application/vnd.google.colaboratory.intrinsic+json": {
              "type": "string"
            },
            "text/plain": [
              "'Hello, My name is Rahul'"
            ]
          },
          "metadata": {},
          "execution_count": 58
        }
      ]
    },
    {
      "cell_type": "code",
      "metadata": {
        "colab": {
          "base_uri": "https://localhost:8080/"
        },
        "id": "hYAWejVndeDS",
        "outputId": "9cfaf071-c696-489f-fa03-349fba6b3302"
      },
      "source": [
        "type(sent1)"
      ],
      "execution_count": null,
      "outputs": [
        {
          "output_type": "execute_result",
          "data": {
            "text/plain": [
              "str"
            ]
          },
          "metadata": {},
          "execution_count": 59
        }
      ]
    },
    {
      "cell_type": "code",
      "metadata": {
        "id": "wzs3nKGhdgf7"
      },
      "source": [
        "sent2 = 'I am Ravi\\'s Brother'"
      ],
      "execution_count": null,
      "outputs": []
    },
    {
      "cell_type": "code",
      "metadata": {
        "colab": {
          "base_uri": "https://localhost:8080/",
          "height": 37
        },
        "id": "qmqRkgCvdtVa",
        "outputId": "e1b19be9-003c-4092-ae0a-2ec89c9b6412"
      },
      "source": [
        "sent2"
      ],
      "execution_count": null,
      "outputs": [
        {
          "output_type": "execute_result",
          "data": {
            "application/vnd.google.colaboratory.intrinsic+json": {
              "type": "string"
            },
            "text/plain": [
              "\"I am Ravi's Brother\""
            ]
          },
          "metadata": {},
          "execution_count": 61
        }
      ]
    },
    {
      "cell_type": "code",
      "metadata": {
        "id": "p55LivI_dvM7"
      },
      "source": [
        "sent3 = \"He calls me \\\"Ra\\\".\""
      ],
      "execution_count": null,
      "outputs": []
    },
    {
      "cell_type": "code",
      "metadata": {
        "colab": {
          "base_uri": "https://localhost:8080/",
          "height": 37
        },
        "id": "nAHYkQkAebeK",
        "outputId": "767f496b-f322-4dae-881f-b963ea9e7456"
      },
      "source": [
        "sent3"
      ],
      "execution_count": null,
      "outputs": [
        {
          "output_type": "execute_result",
          "data": {
            "application/vnd.google.colaboratory.intrinsic+json": {
              "type": "string"
            },
            "text/plain": [
              "'He calls me \"Ra\".'"
            ]
          },
          "metadata": {},
          "execution_count": 63
        }
      ]
    },
    {
      "cell_type": "markdown",
      "metadata": {
        "id": "BahTgSjxewi1"
      },
      "source": [
        "Use triple quotes when you want to print text in multiple lines."
      ]
    },
    {
      "cell_type": "code",
      "metadata": {
        "colab": {
          "base_uri": "https://localhost:8080/",
          "height": 130
        },
        "id": "Q8PdRYUse8Iv",
        "outputId": "3c97c1f9-42e7-420e-e8fc-4ef4cd41f5bd"
      },
      "source": [
        "sent4 = \"Hello my name is Rahul.\n",
        "I am Ravi's brother.\n",
        "He calls me\\\"Ra\\\".\""
      ],
      "execution_count": null,
      "outputs": [
        {
          "output_type": "error",
          "ename": "SyntaxError",
          "evalue": "ignored",
          "traceback": [
            "\u001b[0;36m  File \u001b[0;32m\"<ipython-input-65-18968075df06>\"\u001b[0;36m, line \u001b[0;32m1\u001b[0m\n\u001b[0;31m    sent4 = \"Hello my name is Rahul.\u001b[0m\n\u001b[0m                                    ^\u001b[0m\n\u001b[0;31mSyntaxError\u001b[0m\u001b[0;31m:\u001b[0m EOL while scanning string literal\n"
          ]
        }
      ]
    },
    {
      "cell_type": "code",
      "metadata": {
        "colab": {
          "base_uri": "https://localhost:8080/",
          "height": 164
        },
        "id": "T6se_Dg6fXBZ",
        "outputId": "1d1bd63d-d325-463b-e18a-a4c540479037"
      },
      "source": [
        "print(sent4)"
      ],
      "execution_count": null,
      "outputs": [
        {
          "output_type": "error",
          "ename": "NameError",
          "evalue": "ignored",
          "traceback": [
            "\u001b[0;31m---------------------------------------------------------------------------\u001b[0m",
            "\u001b[0;31mNameError\u001b[0m                                 Traceback (most recent call last)",
            "\u001b[0;32m<ipython-input-66-e28ce47d027a>\u001b[0m in \u001b[0;36m<module>\u001b[0;34m()\u001b[0m\n\u001b[0;32m----> 1\u001b[0;31m \u001b[0mprint\u001b[0m\u001b[0;34m(\u001b[0m\u001b[0msent4\u001b[0m\u001b[0;34m)\u001b[0m\u001b[0;34m\u001b[0m\u001b[0;34m\u001b[0m\u001b[0m\n\u001b[0m",
            "\u001b[0;31mNameError\u001b[0m: name 'sent4' is not defined"
          ]
        }
      ]
    },
    {
      "cell_type": "code",
      "metadata": {
        "id": "fBuM3uhnfZqH"
      },
      "source": [
        "sent5 = \"\"\"Hello my name is Rahul.\n",
        "I am Ravi's brother.\n",
        "He calls me\\\"Ra\\\".\"\"\""
      ],
      "execution_count": null,
      "outputs": []
    },
    {
      "cell_type": "code",
      "metadata": {
        "colab": {
          "base_uri": "https://localhost:8080/"
        },
        "id": "XCUqYcHRfgfr",
        "outputId": "16baebf0-8e70-4ac0-b994-8ccbcf61c0c8"
      },
      "source": [
        "print(sent5)"
      ],
      "execution_count": null,
      "outputs": [
        {
          "output_type": "stream",
          "name": "stdout",
          "text": [
            "Hello my name is Rahul.\n",
            "I am Ravi's brother.\n",
            "He calls me\"Ra\".\n"
          ]
        }
      ]
    },
    {
      "cell_type": "markdown",
      "metadata": {
        "id": "_0llcK2YWRA7"
      },
      "source": [
        "A string can be converted into a list of characters using String Function"
      ]
    },
    {
      "cell_type": "code",
      "metadata": {
        "id": "qdXgJALyQULN"
      },
      "source": [
        "str1 = \"Hello\""
      ],
      "execution_count": null,
      "outputs": []
    },
    {
      "cell_type": "code",
      "metadata": {
        "colab": {
          "base_uri": "https://localhost:8080/"
        },
        "id": "_K81rp2kW2pm",
        "outputId": "e3d92e80-670a-46b7-8af8-00e0cc6d0d81"
      },
      "source": [
        "list(str1)"
      ],
      "execution_count": null,
      "outputs": [
        {
          "output_type": "execute_result",
          "data": {
            "text/plain": [
              "['H', 'e', 'l', 'l', 'o']"
            ]
          },
          "metadata": {},
          "execution_count": 70
        }
      ]
    },
    {
      "cell_type": "markdown",
      "metadata": {
        "id": "NiWehWSFW6-s"
      },
      "source": [
        "We can simply access any String character using [ ] square brackets with the index in it"
      ]
    },
    {
      "cell_type": "code",
      "metadata": {
        "id": "ryRaBbQCXh2M"
      },
      "source": [
        "day = \"Saturday\""
      ],
      "execution_count": null,
      "outputs": []
    },
    {
      "cell_type": "code",
      "metadata": {
        "colab": {
          "base_uri": "https://localhost:8080/",
          "height": 37
        },
        "id": "wL_Ag7dzZDMT",
        "outputId": "21347ba2-fc9f-489a-89a7-f9b6c8567593"
      },
      "source": [
        "day[2]"
      ],
      "execution_count": null,
      "outputs": [
        {
          "output_type": "execute_result",
          "data": {
            "application/vnd.google.colaboratory.intrinsic+json": {
              "type": "string"
            },
            "text/plain": [
              "'t'"
            ]
          },
          "metadata": {},
          "execution_count": 72
        }
      ]
    },
    {
      "cell_type": "code",
      "metadata": {
        "colab": {
          "base_uri": "https://localhost:8080/",
          "height": 37
        },
        "id": "R8pvMGCBZPBg",
        "outputId": "08885ac8-c48a-42cd-92ca-7b55c2329bf7"
      },
      "source": [
        "day[0:3]"
      ],
      "execution_count": null,
      "outputs": [
        {
          "output_type": "execute_result",
          "data": {
            "application/vnd.google.colaboratory.intrinsic+json": {
              "type": "string"
            },
            "text/plain": [
              "'Sat'"
            ]
          },
          "metadata": {},
          "execution_count": 73
        }
      ]
    },
    {
      "cell_type": "code",
      "metadata": {
        "colab": {
          "base_uri": "https://localhost:8080/"
        },
        "id": "-SCUTc2XZasN",
        "outputId": "21fbcb57-ac7d-4983-faa9-9a46e1771893"
      },
      "source": [
        "# You can check whether a certain substring is present in a string or not\n",
        "'day' in day"
      ],
      "execution_count": null,
      "outputs": [
        {
          "output_type": "execute_result",
          "data": {
            "text/plain": [
              "True"
            ]
          },
          "metadata": {},
          "execution_count": 74
        }
      ]
    },
    {
      "cell_type": "code",
      "metadata": {
        "colab": {
          "base_uri": "https://localhost:8080/"
        },
        "id": "4uIVi9rYZyjd",
        "outputId": "4769dc15-eea3-4654-cb08-622c95c8a367"
      },
      "source": [
        "'Sun' in day"
      ],
      "execution_count": null,
      "outputs": [
        {
          "output_type": "execute_result",
          "data": {
            "text/plain": [
              "False"
            ]
          },
          "metadata": {},
          "execution_count": 75
        }
      ]
    },
    {
      "cell_type": "markdown",
      "metadata": {
        "id": "48egVhIia_fT"
      },
      "source": [
        "Basic String Functions"
      ]
    },
    {
      "cell_type": "code",
      "metadata": {
        "colab": {
          "base_uri": "https://localhost:8080/"
        },
        "id": "mDklScncaRxV",
        "outputId": "dacd6074-7dfb-49d0-dbaa-cc2dfbb899dd"
      },
      "source": [
        "#lower()\n",
        "print(\"Name\".lower())\n",
        "#upper()\n",
        "print(\"Name\".upper())\n",
        "#capitalize: makes first letter capital\n",
        "print(\"name\".capitalize())\n",
        "#replace a substring to another substring within a string\n",
        "print(\"name\".replace(\"n\",\"bl\"))\n"
      ],
      "execution_count": null,
      "outputs": [
        {
          "output_type": "stream",
          "name": "stdout",
          "text": [
            "name\n",
            "NAME\n",
            "Name\n",
            "blame\n"
          ]
        }
      ]
    },
    {
      "cell_type": "code",
      "metadata": {
        "colab": {
          "base_uri": "https://localhost:8080/"
        },
        "id": "Idn1MQiPnE-Z",
        "outputId": "f4d14ad1-9078-431b-c3da-c2c7c538942c"
      },
      "source": [
        "#Split a string into a list based on a certain character\n",
        "\"Mon,Tue,Wed,Thu,fri,Sat,Sun\".split(\",\")"
      ],
      "execution_count": null,
      "outputs": [
        {
          "output_type": "execute_result",
          "data": {
            "text/plain": [
              "['Mon', 'Tue', 'Wed', 'Thu', 'fri', 'Sat', 'Sun']"
            ]
          },
          "metadata": {},
          "execution_count": 77
        }
      ]
    },
    {
      "cell_type": "code",
      "metadata": {
        "colab": {
          "base_uri": "https://localhost:8080/",
          "height": 37
        },
        "id": "8mYS1jBNniYX",
        "outputId": "5c9414fb-53ff-4fcc-e218-6e03020664a9"
      },
      "source": [
        "# Trim the extra space from Starting and End\n",
        "\"    Hello Jack.  \".strip()"
      ],
      "execution_count": null,
      "outputs": [
        {
          "output_type": "execute_result",
          "data": {
            "application/vnd.google.colaboratory.intrinsic+json": {
              "type": "string"
            },
            "text/plain": [
              "'Hello Jack.'"
            ]
          },
          "metadata": {},
          "execution_count": 78
        }
      ]
    },
    {
      "cell_type": "code",
      "metadata": {
        "colab": {
          "base_uri": "https://localhost:8080/"
        },
        "id": "c70zthVMoeyv",
        "outputId": "b4c06833-3e71-4438-e9ef-92df198ffde7"
      },
      "source": [
        "# Use str() function to convert any datype into String datatype\n",
        "number = 3.1415\n",
        "print(number)\n",
        "print(type(number))\n",
        "print()\n",
        "number = str(number)\n",
        "print(number)\n",
        "print(type(number))"
      ],
      "execution_count": null,
      "outputs": [
        {
          "output_type": "stream",
          "name": "stdout",
          "text": [
            "3.1415\n",
            "<class 'float'>\n",
            "\n",
            "3.1415\n",
            "<class 'str'>\n"
          ]
        }
      ]
    },
    {
      "cell_type": "markdown",
      "metadata": {
        "id": "hpYgBbFSsgoL"
      },
      "source": [
        "## List"
      ]
    },
    {
      "cell_type": "markdown",
      "metadata": {
        "id": "18XFl7crsjmn"
      },
      "source": [
        "\n",
        "\n",
        "*   Ordered collection of values\n",
        "*   Hetrogenous(consist of different datatypes)\n",
        "\n",
        "*   Have functions like add, count, remove etc.\n",
        "*   Use square brackets [ ] with commas between values\n",
        "\n",
        "\n",
        "\n"
      ]
    },
    {
      "cell_type": "code",
      "metadata": {
        "id": "8OTTdtsNsFgh"
      },
      "source": [
        "fruits = ['Apple','Banana','Pineapple','Cherry']"
      ],
      "execution_count": null,
      "outputs": []
    },
    {
      "cell_type": "code",
      "metadata": {
        "colab": {
          "base_uri": "https://localhost:8080/"
        },
        "id": "Ac4SXjVftqnn",
        "outputId": "ffb8e5f0-c01b-4242-c406-85ebc2a989ef"
      },
      "source": [
        "fruits"
      ],
      "execution_count": null,
      "outputs": [
        {
          "output_type": "execute_result",
          "data": {
            "text/plain": [
              "['Apple', 'Banana', 'Pineapple', 'Cherry']"
            ]
          },
          "metadata": {},
          "execution_count": 125
        }
      ]
    },
    {
      "cell_type": "code",
      "metadata": {
        "colab": {
          "base_uri": "https://localhost:8080/"
        },
        "id": "5Ftyw_MEtspS",
        "outputId": "21494a2a-fc73-4722-c936-2a435d96dd04"
      },
      "source": [
        "type(fruits)"
      ],
      "execution_count": null,
      "outputs": [
        {
          "output_type": "execute_result",
          "data": {
            "text/plain": [
              "list"
            ]
          },
          "metadata": {},
          "execution_count": 126
        }
      ]
    },
    {
      "cell_type": "code",
      "metadata": {
        "id": "8RNv9h0Atw9E"
      },
      "source": [
        "fruits_info = [fruits,180,1.5,40,1.0,125,2,80,0.5]"
      ],
      "execution_count": null,
      "outputs": []
    },
    {
      "cell_type": "code",
      "metadata": {
        "colab": {
          "base_uri": "https://localhost:8080/"
        },
        "id": "OcWS3fvHuSur",
        "outputId": "4b0bba0d-545b-4dc0-aefb-0b01f4b144d2"
      },
      "source": [
        "fruits_info # Hetrogenous List"
      ],
      "execution_count": null,
      "outputs": [
        {
          "output_type": "execute_result",
          "data": {
            "text/plain": [
              "[['Apple', 'Banana', 'Pineapple', 'Cherry'],\n",
              " 180,\n",
              " 1.5,\n",
              " 40,\n",
              " 1.0,\n",
              " 125,\n",
              " 2,\n",
              " 80,\n",
              " 0.5]"
            ]
          },
          "metadata": {},
          "execution_count": 128
        }
      ]
    },
    {
      "cell_type": "code",
      "metadata": {
        "colab": {
          "base_uri": "https://localhost:8080/"
        },
        "id": "IX_AE6KOuXe_",
        "outputId": "4e383419-dcb3-47fe-f223-bd844dcb7ec7"
      },
      "source": [
        "len(fruits_info) # number of elements in a list"
      ],
      "execution_count": null,
      "outputs": [
        {
          "output_type": "execute_result",
          "data": {
            "text/plain": [
              "9"
            ]
          },
          "metadata": {},
          "execution_count": 129
        }
      ]
    },
    {
      "cell_type": "markdown",
      "metadata": {
        "id": "mn9IZoFVfH_s"
      },
      "source": [
        "You can access the elements of a list using index of an element"
      ]
    },
    {
      "cell_type": "code",
      "metadata": {
        "id": "BwVbzavNus4i",
        "colab": {
          "base_uri": "https://localhost:8080/"
        },
        "outputId": "f00e0038-2f83-413f-f7d0-2dd80e5601f5"
      },
      "source": [
        "fruits"
      ],
      "execution_count": null,
      "outputs": [
        {
          "output_type": "execute_result",
          "data": {
            "text/plain": [
              "['Apple', 'Banana', 'Pineapple', 'Cherry']"
            ]
          },
          "metadata": {},
          "execution_count": 130
        }
      ]
    },
    {
      "cell_type": "code",
      "metadata": {
        "colab": {
          "base_uri": "https://localhost:8080/",
          "height": 37
        },
        "id": "e63ep1gMfgPZ",
        "outputId": "d0c5d98b-566f-4bba-f9bd-7d4e6b07edf5"
      },
      "source": [
        "fruits[1]"
      ],
      "execution_count": null,
      "outputs": [
        {
          "output_type": "execute_result",
          "data": {
            "application/vnd.google.colaboratory.intrinsic+json": {
              "type": "string"
            },
            "text/plain": [
              "'Banana'"
            ]
          },
          "metadata": {},
          "execution_count": 131
        }
      ]
    },
    {
      "cell_type": "code",
      "metadata": {
        "colab": {
          "base_uri": "https://localhost:8080/"
        },
        "id": "Dpynmc9jfnV8",
        "outputId": "a9c03816-bd0a-48a8-80a0-5211932a9f89"
      },
      "source": [
        "fruits[1:3]"
      ],
      "execution_count": null,
      "outputs": [
        {
          "output_type": "execute_result",
          "data": {
            "text/plain": [
              "['Banana', 'Pineapple']"
            ]
          },
          "metadata": {},
          "execution_count": 132
        }
      ]
    },
    {
      "cell_type": "code",
      "metadata": {
        "colab": {
          "base_uri": "https://localhost:8080/",
          "height": 37
        },
        "id": "EXJI2Rqpfv9i",
        "outputId": "0744ce4c-911b-4f24-efc0-3c614b3a4d38"
      },
      "source": [
        "fruits[-1]"
      ],
      "execution_count": null,
      "outputs": [
        {
          "output_type": "execute_result",
          "data": {
            "application/vnd.google.colaboratory.intrinsic+json": {
              "type": "string"
            },
            "text/plain": [
              "'Cherry'"
            ]
          },
          "metadata": {},
          "execution_count": 133
        }
      ]
    },
    {
      "cell_type": "code",
      "metadata": {
        "colab": {
          "base_uri": "https://localhost:8080/"
        },
        "id": "Pnx-1k-1fy5D",
        "outputId": "dbf661c4-19b7-4333-f958-f14fa9b580d1"
      },
      "source": [
        "fruits[-1:-3:-1]"
      ],
      "execution_count": null,
      "outputs": [
        {
          "output_type": "execute_result",
          "data": {
            "text/plain": [
              "['Cherry', 'Pineapple']"
            ]
          },
          "metadata": {},
          "execution_count": 134
        }
      ]
    },
    {
      "cell_type": "code",
      "metadata": {
        "colab": {
          "base_uri": "https://localhost:8080/",
          "height": 37
        },
        "id": "ZDJcGmBHf_9P",
        "outputId": "7c22f2e6-ffc1-4c60-c106-988258f82aec"
      },
      "source": [
        "fruits[-4]"
      ],
      "execution_count": null,
      "outputs": [
        {
          "output_type": "execute_result",
          "data": {
            "application/vnd.google.colaboratory.intrinsic+json": {
              "type": "string"
            },
            "text/plain": [
              "'Apple'"
            ]
          },
          "metadata": {},
          "execution_count": 135
        }
      ]
    },
    {
      "cell_type": "code",
      "metadata": {
        "colab": {
          "base_uri": "https://localhost:8080/",
          "height": 37
        },
        "id": "oaSIghhQgDDx",
        "outputId": "3fb8ea7f-30cc-472a-e9d4-9a3ebd441eaa"
      },
      "source": [
        "fruits[0]"
      ],
      "execution_count": null,
      "outputs": [
        {
          "output_type": "execute_result",
          "data": {
            "application/vnd.google.colaboratory.intrinsic+json": {
              "type": "string"
            },
            "text/plain": [
              "'Apple'"
            ]
          },
          "metadata": {},
          "execution_count": 136
        }
      ]
    },
    {
      "cell_type": "code",
      "metadata": {
        "colab": {
          "base_uri": "https://localhost:8080/"
        },
        "id": "VQBNnI2ogGQd",
        "outputId": "5d41f70c-aa3a-4799-b29e-66f2b9bc871c"
      },
      "source": [
        "fruits[0:-1:2]"
      ],
      "execution_count": null,
      "outputs": [
        {
          "output_type": "execute_result",
          "data": {
            "text/plain": [
              "['Apple', 'Pineapple']"
            ]
          },
          "metadata": {},
          "execution_count": 137
        }
      ]
    },
    {
      "cell_type": "code",
      "metadata": {
        "colab": {
          "base_uri": "https://localhost:8080/"
        },
        "id": "A5V0EAlTgYga",
        "outputId": "40c55fe4-0137-422c-fec4-74601543260b"
      },
      "source": [
        "fruits[-1:]"
      ],
      "execution_count": null,
      "outputs": [
        {
          "output_type": "execute_result",
          "data": {
            "text/plain": [
              "['Cherry']"
            ]
          },
          "metadata": {},
          "execution_count": 138
        }
      ]
    },
    {
      "cell_type": "code",
      "metadata": {
        "colab": {
          "base_uri": "https://localhost:8080/"
        },
        "id": "ZHlkTHZHiGus",
        "outputId": "38c673ac-c1a5-4549-df5b-1733dc24d26a"
      },
      "source": [
        "#Changing element of an array\n",
        "print(fruits)\n",
        "fruits[2] = 'Pineapple'\n",
        "print(fruits)"
      ],
      "execution_count": null,
      "outputs": [
        {
          "output_type": "stream",
          "name": "stdout",
          "text": [
            "['Apple', 'Banana', 'Pineapple', 'Cherry']\n",
            "['Apple', 'Banana', 'Pineapple', 'Cherry']\n"
          ]
        }
      ]
    },
    {
      "cell_type": "markdown",
      "metadata": {
        "id": "1ZTSaKh5ileq"
      },
      "source": [
        "List's basic Functions"
      ]
    },
    {
      "cell_type": "code",
      "metadata": {
        "colab": {
          "base_uri": "https://localhost:8080/"
        },
        "id": "krBJlJM9ijMz",
        "outputId": "de80dae5-5553-465a-9c4f-28b71b87f003"
      },
      "source": [
        "fruits.append('Guava') # append: used to insert a value at the last of a list\n",
        "fruits"
      ],
      "execution_count": null,
      "outputs": [
        {
          "output_type": "execute_result",
          "data": {
            "text/plain": [
              "['Apple', 'Banana', 'Pineapple', 'Cherry', 'Guava']"
            ]
          },
          "metadata": {},
          "execution_count": 140
        }
      ]
    },
    {
      "cell_type": "code",
      "metadata": {
        "id": "65x-oHPdn2_L",
        "colab": {
          "base_uri": "https://localhost:8080/"
        },
        "outputId": "337114e0-7e6d-4a46-aa43-fa87cc4b0a71"
      },
      "source": [
        "fruits.insert(2,'Watermelon') # insert: use to insert a value at a particular position\n",
        "fruits"
      ],
      "execution_count": null,
      "outputs": [
        {
          "output_type": "execute_result",
          "data": {
            "text/plain": [
              "['Apple', 'Banana', 'Watermelon', 'Pineapple', 'Cherry', 'Guava']"
            ]
          },
          "metadata": {},
          "execution_count": 141
        }
      ]
    },
    {
      "cell_type": "code",
      "metadata": {
        "colab": {
          "base_uri": "https://localhost:8080/"
        },
        "id": "GDvVVHD-7OOp",
        "outputId": "035d42c7-cb42-4d62-bfeb-327cce2e90d5"
      },
      "source": [
        "fruits[2] = 'Strawberry'\n",
        "fruits"
      ],
      "execution_count": null,
      "outputs": [
        {
          "output_type": "execute_result",
          "data": {
            "text/plain": [
              "['Apple', 'Banana', 'Strawberry', 'Pineapple', 'Cherry', 'Guava']"
            ]
          },
          "metadata": {},
          "execution_count": 142
        }
      ]
    },
    {
      "cell_type": "code",
      "metadata": {
        "colab": {
          "base_uri": "https://localhost:8080/"
        },
        "id": "ZiIDqK238250",
        "outputId": "edd6050d-6e9c-46c1-d04f-06dd341ab0fc"
      },
      "source": [
        "# remove: removes spcified element from the list(can remove only one elemnets)\n",
        "fruits.remove('Strawberry')\n",
        "fruits"
      ],
      "execution_count": null,
      "outputs": [
        {
          "output_type": "execute_result",
          "data": {
            "text/plain": [
              "['Apple', 'Banana', 'Pineapple', 'Cherry', 'Guava']"
            ]
          },
          "metadata": {},
          "execution_count": 143
        }
      ]
    },
    {
      "cell_type": "code",
      "metadata": {
        "colab": {
          "base_uri": "https://localhost:8080/",
          "height": 37
        },
        "id": "ogDhkNMJ85Ve",
        "outputId": "5d9d2c7c-0a14-46bc-c586-0500095c3aa3"
      },
      "source": [
        "# removes the last element from the list\n",
        "fruits.pop()"
      ],
      "execution_count": null,
      "outputs": [
        {
          "output_type": "execute_result",
          "data": {
            "application/vnd.google.colaboratory.intrinsic+json": {
              "type": "string"
            },
            "text/plain": [
              "'Guava'"
            ]
          },
          "metadata": {},
          "execution_count": 144
        }
      ]
    },
    {
      "cell_type": "code",
      "metadata": {
        "colab": {
          "base_uri": "https://localhost:8080/",
          "height": 37
        },
        "id": "X4VkjSAs-EMN",
        "outputId": "66721335-37d1-4446-f896-ed67e5a5ee9a"
      },
      "source": [
        "fruits.pop(3) # removing spcific element form the array"
      ],
      "execution_count": null,
      "outputs": [
        {
          "output_type": "execute_result",
          "data": {
            "application/vnd.google.colaboratory.intrinsic+json": {
              "type": "string"
            },
            "text/plain": [
              "'Cherry'"
            ]
          },
          "metadata": {},
          "execution_count": 146
        }
      ]
    },
    {
      "cell_type": "code",
      "metadata": {
        "colab": {
          "base_uri": "https://localhost:8080/"
        },
        "id": "vs3uaw2l-bh-",
        "outputId": "693e2ec3-e665-49b5-bbdb-aed6d91f849b"
      },
      "source": [
        "'Guava' in fruits # in: use to find a particular element from the list"
      ],
      "execution_count": null,
      "outputs": [
        {
          "output_type": "execute_result",
          "data": {
            "text/plain": [
              "False"
            ]
          },
          "metadata": {},
          "execution_count": 147
        }
      ]
    },
    {
      "cell_type": "code",
      "metadata": {
        "colab": {
          "base_uri": "https://localhost:8080/"
        },
        "id": "8ZjubP7N-kGP",
        "outputId": "68ede3ba-9e1c-4dfe-86ae-a2db32aab570"
      },
      "source": [
        "'Apple' in fruits"
      ],
      "execution_count": null,
      "outputs": [
        {
          "output_type": "execute_result",
          "data": {
            "text/plain": [
              "True"
            ]
          },
          "metadata": {},
          "execution_count": 148
        }
      ]
    },
    {
      "cell_type": "code",
      "metadata": {
        "id": "zIhP4iis-oVp"
      },
      "source": [
        "more_fruits = ['Guava', 'Cherry', 'Kiwi']"
      ],
      "execution_count": null,
      "outputs": []
    },
    {
      "cell_type": "code",
      "metadata": {
        "colab": {
          "base_uri": "https://localhost:8080/"
        },
        "id": "w6vVBaRl_RUT",
        "outputId": "acffeed6-5cae-4f85-8541-85d9ceb6ef4b"
      },
      "source": [
        "# adding three lists into one using '+'\n",
        "print(\"First list: \",fruits)\n",
        "print(\"Second list: \",more_fruits)\n",
        "new_fruits = fruits+more_fruits+['papaya','orange']\n",
        "print(\"new list: \\n\",new_fruits)"
      ],
      "execution_count": null,
      "outputs": [
        {
          "output_type": "stream",
          "name": "stdout",
          "text": [
            "First list:  ['Apple', 'Banana', 'Pineapple']\n",
            "Second list:  ['Guava', 'Cherry', 'Kiwi']\n",
            "new list: \n",
            " ['Apple', 'Banana', 'Pineapple', 'Guava', 'Cherry', 'Kiwi', 'papaya', 'orange']\n"
          ]
        }
      ]
    },
    {
      "cell_type": "code",
      "metadata": {
        "colab": {
          "base_uri": "https://localhost:8080/"
        },
        "id": "CVybiq12ALDB",
        "outputId": "6256d3c1-acae-459c-d12e-8524778692c5"
      },
      "source": [
        "#copy elements from one list to another \n",
        "fruitsC = fruits.copy()\n",
        "print(fruitsC)"
      ],
      "execution_count": null,
      "outputs": [
        {
          "output_type": "stream",
          "name": "stdout",
          "text": [
            "['Apple', 'Banana', 'Pineapple']\n"
          ]
        }
      ]
    },
    {
      "cell_type": "markdown",
      "metadata": {
        "id": "bU-udcrAjLld"
      },
      "source": [
        "##Tuple"
      ]
    },
    {
      "cell_type": "markdown",
      "metadata": {
        "id": "So8lvss7jUX9"
      },
      "source": [
        "\n",
        "\n",
        "*   Ordered collection of values.\n",
        "*   It is not possible to add, remove or modify values in tuples (immutable).\n",
        "*   A tuple is created by enclosing values with parentheses ()\n",
        "*   Tuples are commonly used to create multiple variables with single statement.\n",
        "\n",
        "\n",
        "\n",
        "\n",
        "\n"
      ]
    },
    {
      "cell_type": "code",
      "metadata": {
        "colab": {
          "base_uri": "https://localhost:8080/"
        },
        "id": "XiqenM1eBYrv",
        "outputId": "c65177d9-0f32-4ee8-b349-bfc76ba961b2"
      },
      "source": [
        "fruits = ('Apples','Banana','Grapes')\n",
        "fruits"
      ],
      "execution_count": null,
      "outputs": [
        {
          "output_type": "execute_result",
          "data": {
            "text/plain": [
              "('Apples', 'Banana', 'Grapes')"
            ]
          },
          "metadata": {},
          "execution_count": 1
        }
      ]
    },
    {
      "cell_type": "code",
      "metadata": {
        "colab": {
          "base_uri": "https://localhost:8080/"
        },
        "id": "LzhG4AbKmZIX",
        "outputId": "e786f861-39f1-49f4-e04a-77239535f833"
      },
      "source": [
        "#Number of elements in tuple\n",
        "len(fruits)"
      ],
      "execution_count": null,
      "outputs": [
        {
          "output_type": "execute_result",
          "data": {
            "text/plain": [
              "3"
            ]
          },
          "metadata": {},
          "execution_count": 2
        }
      ]
    },
    {
      "cell_type": "code",
      "metadata": {
        "colab": {
          "base_uri": "https://localhost:8080/"
        },
        "id": "uYrGhDqJmmg_",
        "outputId": "72e90d2c-a337-44ad-c346-08062e164531"
      },
      "source": [
        "#access an element of the tuple\n",
        "print(fruits[1])\n",
        "print(fruits[-2])"
      ],
      "execution_count": null,
      "outputs": [
        {
          "output_type": "stream",
          "name": "stdout",
          "text": [
            "Banana\n",
            "Banana\n"
          ]
        }
      ]
    },
    {
      "cell_type": "code",
      "metadata": {
        "id": "T0gE9UqOmzk3",
        "colab": {
          "base_uri": "https://localhost:8080/"
        },
        "outputId": "5b550d6a-a126-4e1b-ead5-e6f51398ee44"
      },
      "source": [
        "'Grapes' in fruits"
      ],
      "execution_count": null,
      "outputs": [
        {
          "output_type": "execute_result",
          "data": {
            "text/plain": [
              "True"
            ]
          },
          "metadata": {},
          "execution_count": 4
        }
      ]
    },
    {
      "cell_type": "code",
      "metadata": {
        "colab": {
          "base_uri": "https://localhost:8080/",
          "height": 164
        },
        "id": "BAAZ9-5k2RCU",
        "outputId": "4a70a34e-2b9f-4104-ee82-b96fc8db3653"
      },
      "source": [
        "fruits[0] = 'Watermelpn' # immutable"
      ],
      "execution_count": null,
      "outputs": [
        {
          "output_type": "error",
          "ename": "TypeError",
          "evalue": "ignored",
          "traceback": [
            "\u001b[0;31m---------------------------------------------------------------------------\u001b[0m",
            "\u001b[0;31mTypeError\u001b[0m                                 Traceback (most recent call last)",
            "\u001b[0;32m<ipython-input-5-45d5b946f0ee>\u001b[0m in \u001b[0;36m<module>\u001b[0;34m()\u001b[0m\n\u001b[0;32m----> 1\u001b[0;31m \u001b[0mfruits\u001b[0m\u001b[0;34m[\u001b[0m\u001b[0;36m0\u001b[0m\u001b[0;34m]\u001b[0m \u001b[0;34m=\u001b[0m \u001b[0;34m'Watermelpn'\u001b[0m\u001b[0;34m\u001b[0m\u001b[0;34m\u001b[0m\u001b[0m\n\u001b[0m",
            "\u001b[0;31mTypeError\u001b[0m: 'tuple' object does not support item assignment"
          ]
        }
      ]
    },
    {
      "cell_type": "code",
      "metadata": {
        "colab": {
          "base_uri": "https://localhost:8080/",
          "height": 164
        },
        "id": "pkP-1gzf2ZGD",
        "outputId": "ffbae920-fd30-416a-832f-9e6f6f49d395"
      },
      "source": [
        "fruits.append('Watermelon') # cannot add values"
      ],
      "execution_count": null,
      "outputs": [
        {
          "output_type": "error",
          "ename": "AttributeError",
          "evalue": "ignored",
          "traceback": [
            "\u001b[0;31m---------------------------------------------------------------------------\u001b[0m",
            "\u001b[0;31mAttributeError\u001b[0m                            Traceback (most recent call last)",
            "\u001b[0;32m<ipython-input-6-b5a0efe11bfe>\u001b[0m in \u001b[0;36m<module>\u001b[0;34m()\u001b[0m\n\u001b[0;32m----> 1\u001b[0;31m \u001b[0mfruits\u001b[0m\u001b[0;34m.\u001b[0m\u001b[0mappend\u001b[0m\u001b[0;34m(\u001b[0m\u001b[0;34m'Watermelon'\u001b[0m\u001b[0;34m)\u001b[0m\u001b[0;34m\u001b[0m\u001b[0;34m\u001b[0m\u001b[0m\n\u001b[0m",
            "\u001b[0;31mAttributeError\u001b[0m: 'tuple' object has no attribute 'append'"
          ]
        }
      ]
    },
    {
      "cell_type": "code",
      "metadata": {
        "colab": {
          "base_uri": "https://localhost:8080/",
          "height": 164
        },
        "id": "znABthrk2kw_",
        "outputId": "191f6cba-bd35-4acf-f2d7-ad9c2a86e830"
      },
      "source": [
        "fruits.remove('Apples')# cannot remove values"
      ],
      "execution_count": null,
      "outputs": [
        {
          "output_type": "error",
          "ename": "AttributeError",
          "evalue": "ignored",
          "traceback": [
            "\u001b[0;31m---------------------------------------------------------------------------\u001b[0m",
            "\u001b[0;31mAttributeError\u001b[0m                            Traceback (most recent call last)",
            "\u001b[0;32m<ipython-input-7-a573794be9cf>\u001b[0m in \u001b[0;36m<module>\u001b[0;34m()\u001b[0m\n\u001b[0;32m----> 1\u001b[0;31m \u001b[0mfruits\u001b[0m\u001b[0;34m.\u001b[0m\u001b[0mremove\u001b[0m\u001b[0;34m(\u001b[0m\u001b[0;34m'Apples'\u001b[0m\u001b[0;34m)\u001b[0m\u001b[0;34m\u001b[0m\u001b[0;34m\u001b[0m\u001b[0m\n\u001b[0m",
            "\u001b[0;31mAttributeError\u001b[0m: 'tuple' object has no attribute 'remove'"
          ]
        }
      ]
    },
    {
      "cell_type": "code",
      "metadata": {
        "colab": {
          "base_uri": "https://localhost:8080/"
        },
        "id": "CJEbujPh2qJz",
        "outputId": "454fed72-5957-4d12-b990-dcfa537c53d2"
      },
      "source": [
        "#Create a tuple without brackets with just one element\n",
        "number = 10,\n",
        "number"
      ],
      "execution_count": null,
      "outputs": [
        {
          "output_type": "execute_result",
          "data": {
            "text/plain": [
              "(10,)"
            ]
          },
          "metadata": {},
          "execution_count": 9
        }
      ]
    },
    {
      "cell_type": "code",
      "metadata": {
        "colab": {
          "base_uri": "https://localhost:8080/"
        },
        "id": "gPP31b4e3QMO",
        "outputId": "3f698816-ada7-4f06-ffdd-7864aa89c8d3"
      },
      "source": [
        "point = (3,5)\n",
        "x,y = point\n",
        "print(x)\n",
        "print(y)"
      ],
      "execution_count": null,
      "outputs": [
        {
          "output_type": "stream",
          "name": "stdout",
          "text": [
            "3\n",
            "5\n"
          ]
        }
      ]
    },
    {
      "cell_type": "code",
      "metadata": {
        "colab": {
          "base_uri": "https://localhost:8080/"
        },
        "id": "V1f-0A6X4gbQ",
        "outputId": "38ca716d-7bd3-440a-8c6e-e5f95f6a9132"
      },
      "source": [
        "# Converting TUPLE into to LIST\n",
        "tuple1 = (1,2,3,4,5,\"Elephants\")\n",
        "print(tuple1)\n",
        "print(type(tuple1))\n",
        "lst1 = [tuple1]\n",
        "print(lst1)\n",
        "print(type(lst1))"
      ],
      "execution_count": null,
      "outputs": [
        {
          "output_type": "stream",
          "name": "stdout",
          "text": [
            "(1, 2, 3, 4, 5, 'Elephants')\n",
            "<class 'tuple'>\n",
            "[(1, 2, 3, 4, 5, 'Elephants')]\n",
            "<class 'list'>\n"
          ]
        }
      ]
    },
    {
      "cell_type": "code",
      "metadata": {
        "colab": {
          "base_uri": "https://localhost:8080/"
        },
        "id": "_iEsbBkG5Mzi",
        "outputId": "2f843874-d35e-46ab-9381-ab223d0d6604"
      },
      "source": [
        "# Converting LIST to TUPLE\n",
        "lst2 = [1,2,3,4,5,\"Monkeys\",True] \n",
        "print(lst2)\n",
        "print(type(lst2))\n",
        "tpl = tuple(lst2)\n",
        "print(tpl)\n",
        "print(type(tpl))"
      ],
      "execution_count": null,
      "outputs": [
        {
          "output_type": "stream",
          "name": "stdout",
          "text": [
            "[1, 2, 3, 4, 5, 'Monkeys', True]\n",
            "<class 'list'>\n",
            "(1, 2, 3, 4, 5, 'Monkeys', True)\n",
            "<class 'tuple'>\n"
          ]
        }
      ]
    },
    {
      "cell_type": "code",
      "metadata": {
        "colab": {
          "base_uri": "https://localhost:8080/"
        },
        "id": "MVtQP4-n6Uf0",
        "outputId": "6b9fbb98-6619-4ba4-e34f-551fd252430e"
      },
      "source": [
        "ct = tpl.count\n",
        "ct"
      ],
      "execution_count": null,
      "outputs": [
        {
          "output_type": "execute_result",
          "data": {
            "text/plain": [
              "<function tuple.count>"
            ]
          },
          "metadata": {},
          "execution_count": 21
        }
      ]
    },
    {
      "cell_type": "markdown",
      "metadata": {
        "id": "x_ABEbXunWt8"
      },
      "source": [
        "##Dictionary"
      ]
    },
    {
      "cell_type": "markdown",
      "metadata": {
        "id": "LsgYqwPx9Kdn"
      },
      "source": [
        "\n",
        "\n",
        "*   Unordered collection of items\n",
        "*   Items are stored in Key and Value pairs\n",
        "*   Use key to access value \n",
        "*   Dictionary store values in the pair of Key-Values which are enclosed with  brackets { }\n",
        "*   Dictionary are mutable\n",
        "\n",
        "\n",
        "\n",
        "\n",
        "\n"
      ]
    },
    {
      "cell_type": "code",
      "metadata": {
        "colab": {
          "base_uri": "https://localhost:8080/"
        },
        "id": "Ajel78vW-oVZ",
        "outputId": "9617327b-c09f-4cda-f926-a2d550ef8681"
      },
      "source": [
        "person1 = {'name': \"Jack\",\n",
        "           'age': 32,\n",
        "           'address': \"A180 Apex Appartment\",\n",
        "           'selected': True}\n",
        "print(person1)\n",
        "print(type(person1))"
      ],
      "execution_count": null,
      "outputs": [
        {
          "output_type": "stream",
          "name": "stdout",
          "text": [
            "{'name': 'Jack', 'age': 32, 'address': 'A180 Apex Appartment', 'selected': True}\n",
            "<class 'dict'>\n"
          ]
        }
      ]
    },
    {
      "cell_type": "code",
      "metadata": {
        "colab": {
          "base_uri": "https://localhost:8080/"
        },
        "id": "fHfgJC86_wSl",
        "outputId": "e82d36df-9e44-4509-c309-bab9323b145d"
      },
      "source": [
        "person2 = dict(name = \"Alice\",age = 34,address = \"320 Queens Road Belamorr\",selected = True)\n",
        "print(person2)\n",
        "print(type(person2))"
      ],
      "execution_count": null,
      "outputs": [
        {
          "output_type": "stream",
          "name": "stdout",
          "text": [
            "{'name': 'Alice', 'age': 34, 'address': '320 Queens Road Belamorr', 'selected': True}\n",
            "<class 'dict'>\n"
          ]
        }
      ]
    },
    {
      "cell_type": "code",
      "metadata": {
        "colab": {
          "base_uri": "https://localhost:8080/"
        },
        "id": "KIKapSorAuSE",
        "outputId": "1b71a2aa-d5e4-46d7-d739-93aaa44578e4"
      },
      "source": [
        "print(person2['name'],person2['age'])\n",
        "print(person1['name'],person1['age'])\n",
        "print(\"Age Difference: \",person2['age']-person1['age'])"
      ],
      "execution_count": null,
      "outputs": [
        {
          "output_type": "stream",
          "name": "stdout",
          "text": [
            "Alice 34\n",
            "Jack 32\n",
            "Age Difference:  2\n"
          ]
        }
      ]
    },
    {
      "cell_type": "code",
      "metadata": {
        "colab": {
          "base_uri": "https://localhost:8080/"
        },
        "id": "6nr9_Wr5B0gy",
        "outputId": "81f3e786-55c4-4b23-eebe-20141049a29d"
      },
      "source": [
        "person1['name'] = \"Joseph\"\n",
        "person1"
      ],
      "execution_count": null,
      "outputs": [
        {
          "output_type": "execute_result",
          "data": {
            "text/plain": [
              "{'address': 'A180 Apex Appartment',\n",
              " 'age': 32,\n",
              " 'name': 'Joseph',\n",
              " 'selected': True}"
            ]
          },
          "metadata": {},
          "execution_count": 4
        }
      ]
    },
    {
      "cell_type": "code",
      "metadata": {
        "colab": {
          "base_uri": "https://localhost:8080/"
        },
        "id": "-DZ84VtUHDJ0",
        "outputId": "2a4fece3-5ef1-4197-d4f3-c1f438d88a3e"
      },
      "source": [
        "person1.pop('address')\n",
        "person1"
      ],
      "execution_count": null,
      "outputs": [
        {
          "output_type": "execute_result",
          "data": {
            "text/plain": [
              "{'age': 32, 'name': 'Joseph', 'selected': True}"
            ]
          },
          "metadata": {},
          "execution_count": 5
        }
      ]
    },
    {
      "cell_type": "code",
      "metadata": {
        "id": "HGvXaBSPHNCe",
        "colab": {
          "base_uri": "https://localhost:8080/"
        },
        "outputId": "40b7d447-fd91-4685-81fc-81ab6399e11c"
      },
      "source": [
        "person2.keys()"
      ],
      "execution_count": null,
      "outputs": [
        {
          "output_type": "execute_result",
          "data": {
            "text/plain": [
              "dict_keys(['name', 'age', 'address', 'selected'])"
            ]
          },
          "metadata": {},
          "execution_count": 6
        }
      ]
    },
    {
      "cell_type": "code",
      "metadata": {
        "colab": {
          "base_uri": "https://localhost:8080/"
        },
        "id": "MxegpybuqeRH",
        "outputId": "896f2b23-74c3-4037-e67c-dd6a6fdb063d"
      },
      "source": [
        "person2.values()"
      ],
      "execution_count": null,
      "outputs": [
        {
          "output_type": "execute_result",
          "data": {
            "text/plain": [
              "dict_values(['Alice', 34, '320 Queens Road Belamorr', True])"
            ]
          },
          "metadata": {},
          "execution_count": 7
        }
      ]
    },
    {
      "cell_type": "code",
      "metadata": {
        "colab": {
          "base_uri": "https://localhost:8080/"
        },
        "id": "En8W0cj9qiOd",
        "outputId": "66d156ec-8d6e-4993-8145-abf2a1aac730"
      },
      "source": [
        "person2.items()"
      ],
      "execution_count": null,
      "outputs": [
        {
          "output_type": "execute_result",
          "data": {
            "text/plain": [
              "dict_items([('name', 'Alice'), ('age', 34), ('address', '320 Queens Road Belamorr'), ('selected', True)])"
            ]
          },
          "metadata": {},
          "execution_count": 8
        }
      ]
    }
  ]
}
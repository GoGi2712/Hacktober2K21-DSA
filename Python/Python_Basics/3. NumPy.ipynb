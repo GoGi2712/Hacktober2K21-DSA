{
 "cells": [
  {
   "cell_type": "code",
   "execution_count": 1,
   "metadata": {},
   "outputs": [],
   "source": [
    "#import numpy\n",
    "import numpy as np"
   ]
  },
  {
   "cell_type": "code",
   "execution_count": 2,
   "metadata": {},
   "outputs": [
    {
     "name": "stdout",
     "output_type": "stream",
     "text": [
      "[1 2 3 4]\n"
     ]
    }
   ],
   "source": [
    "# create a 1-D numpy array\n",
    "arr1 = np.array([1,2,3,4])\n",
    "print(arr1)"
   ]
  },
  {
   "cell_type": "code",
   "execution_count": 3,
   "metadata": {},
   "outputs": [
    {
     "name": "stdout",
     "output_type": "stream",
     "text": [
      "[[1 3 5 7]\n",
      " [2 4 6 8]]\n"
     ]
    }
   ],
   "source": [
    "# create a 2-D numpy array\n",
    "# 2 square brackets will be used\n",
    "arr2 = np.array([[1,3,5,7],[2,4,6,8]])\n",
    "print(arr2)"
   ]
  },
  {
   "cell_type": "code",
   "execution_count": 4,
   "metadata": {},
   "outputs": [
    {
     "data": {
      "text/plain": [
       "numpy.ndarray"
      ]
     },
     "execution_count": 4,
     "metadata": {},
     "output_type": "execute_result"
    }
   ],
   "source": [
    "# To find type of array\n",
    "type(arr2)"
   ]
  },
  {
   "cell_type": "code",
   "execution_count": 5,
   "metadata": {},
   "outputs": [
    {
     "name": "stdout",
     "output_type": "stream",
     "text": [
      "dimensions of arr1 is  1\n",
      "dimensions of arr2 is  2\n"
     ]
    }
   ],
   "source": [
    "# to find the dimensions of an array\n",
    "print(\"dimensions of arr1 is \",arr1.ndim)\n",
    "print(\"dimensions of arr2 is \",arr2.ndim)"
   ]
  },
  {
   "cell_type": "code",
   "execution_count": 6,
   "metadata": {},
   "outputs": [
    {
     "name": "stdout",
     "output_type": "stream",
     "text": [
      "size of arr1 is  4\n",
      "size of arr2 is  8\n"
     ]
    }
   ],
   "source": [
    "# to find the size of an array\n",
    "print(\"size of arr1 is \",arr1.size)\n",
    "print(\"size of arr2 is \",arr2.size)"
   ]
  },
  {
   "cell_type": "code",
   "execution_count": 7,
   "metadata": {},
   "outputs": [
    {
     "name": "stdout",
     "output_type": "stream",
     "text": [
      "shape of arr1 is  (4,)\n",
      "shape of arr2 is  (2, 4)\n"
     ]
    }
   ],
   "source": [
    "# to find number of rows and columns in an array\n",
    "# in the format of (rows,columns) \n",
    "print(\"shape of arr1 is \",arr1.shape)\n",
    "print(\"shape of arr2 is \",arr2.shape)"
   ]
  },
  {
   "cell_type": "code",
   "execution_count": 8,
   "metadata": {},
   "outputs": [
    {
     "name": "stdout",
     "output_type": "stream",
     "text": [
      "Array with each element initialized as 0 of float type:  [0. 0. 0. 0. 0.]\n",
      "Array with each element initialized as 1 of float type:  [1. 1. 1. 1. 1.]\n"
     ]
    }
   ],
   "source": [
    "# to create a 1D array with each element as 0\n",
    "# to create a 1D array with each element as 1\n",
    "arr1 = np.zeros(5)\n",
    "arr2 = np.ones(5)\n",
    "print(\"Array with each element initialized as 0 of float type: \",arr1)\n",
    "print(\"Array with each element initialized as 1 of float type: \",arr2)"
   ]
  },
  {
   "cell_type": "code",
   "execution_count": 9,
   "metadata": {},
   "outputs": [
    {
     "name": "stdout",
     "output_type": "stream",
     "text": [
      "\n",
      "Array with each element initialized as 0 of float type: \n",
      " [[0. 0. 0.]\n",
      " [0. 0. 0.]\n",
      " [0. 0. 0.]]\n",
      "\n",
      "Array with each element initialized as 1 of float type: \n",
      " [[1. 1. 1.]\n",
      " [1. 1. 1.]\n",
      " [1. 1. 1.]]\n"
     ]
    }
   ],
   "source": [
    "# to create a 2D array with each element as 0\n",
    "# to create a 2D array with each element as 1\n",
    "arr1 = np.zeros((3,3))\n",
    "arr2 = np.ones((3,3))\n",
    "print(\"\\nArray with each element initialized as 0 of float type: \\n\",arr1)\n",
    "print(\"\\nArray with each element initialized as 1 of float type: \\n\",arr2)"
   ]
  },
  {
   "cell_type": "code",
   "execution_count": 10,
   "metadata": {},
   "outputs": [
    {
     "name": "stdout",
     "output_type": "stream",
     "text": [
      "\n",
      "Array with each element initialized as 0 of int type: \n",
      " [[0 0 0]\n",
      " [0 0 0]\n",
      " [0 0 0]]\n",
      "\n",
      "Array with each element initialized as 1 of int type: \n",
      " [[1 1 1]\n",
      " [1 1 1]\n",
      " [1 1 1]]\n"
     ]
    }
   ],
   "source": [
    "# to create an array of zeros of int type\n",
    "# to create an array of ones of int type\n",
    "arr1 = np.zeros((3,3),dtype = int)\n",
    "arr2 = np.ones((3,3),dtype = int)\n",
    "print(\"\\nArray with each element initialized as 0 of int type: \\n\",arr1)\n",
    "print(\"\\nArray with each element initialized as 1 of int type: \\n\",arr2)"
   ]
  },
  {
   "cell_type": "code",
   "execution_count": 11,
   "metadata": {},
   "outputs": [
    {
     "name": "stdout",
     "output_type": "stream",
     "text": [
      "\n",
      "Array with each element initialized as 0 of bool type: \n",
      " [[False False False]\n",
      " [False False False]\n",
      " [False False False]]\n",
      "\n",
      "Array with each element initialized as 1 of bool type: \n",
      " [[ True  True  True]\n",
      " [ True  True  True]\n",
      " [ True  True  True]]\n"
     ]
    }
   ],
   "source": [
    "# to create an array of zeros of bool type\n",
    "# to create an array of ones of bool type\n",
    "arr1 = np.zeros((3,3),dtype = bool)\n",
    "arr2 = np.ones((3,3),dtype = bool)\n",
    "print(\"\\nArray with each element initialized as 0 of bool type: \\n\",arr1)\n",
    "print(\"\\nArray with each element initialized as 1 of bool type: \\n\",arr2)"
   ]
  },
  {
   "cell_type": "code",
   "execution_count": 12,
   "metadata": {},
   "outputs": [
    {
     "name": "stdout",
     "output_type": "stream",
     "text": [
      "2D array: \n",
      " [[ 1  2  3  4]\n",
      " [ 5  6  7  8]\n",
      " [ 9 10 11 12]]\n",
      "2D array: \n",
      " [[ 1  2  3  4  5  6  7  8  9 10]\n",
      " [11 12 13 14 15 16 17 18 19 20]]\n"
     ]
    }
   ],
   "source": [
    "# to convert 1D array to 2 dimensional array \n",
    "arr1 = np.arange(1,13)\n",
    "arr1 = arr1.reshape(3,4)\n",
    "print(\"2D array: \\n\",arr1)\n",
    "arr2 = np.arange(1,21)\n",
    "arr2 = arr2.reshape(2,10)\n",
    "print(\"2D array: \\n\",arr2)"
   ]
  },
  {
   "cell_type": "code",
   "execution_count": 13,
   "metadata": {},
   "outputs": [
    {
     "name": "stdout",
     "output_type": "stream",
     "text": [
      "3D - Array \n",
      " [[[1]\n",
      "  [1]\n",
      "  [1]]\n",
      "\n",
      " [[1]\n",
      "  [1]\n",
      "  [1]]\n",
      "\n",
      " [[1]\n",
      "  [1]\n",
      "  [1]]\n",
      "\n",
      " [[1]\n",
      "  [1]\n",
      "  [1]]\n",
      "\n",
      " [[1]\n",
      "  [1]\n",
      "  [1]]]\n",
      "\n",
      "3D - Array \n",
      " [[[0 0]\n",
      "  [0 0]]\n",
      "\n",
      " [[0 0]\n",
      "  [0 0]]\n",
      "\n",
      " [[0 0]\n",
      "  [0 0]]]\n"
     ]
    }
   ],
   "source": [
    "# to convert 1D array to 3D array\n",
    "arr1 = np.ones(15,dtype = int)\n",
    "arr1 = arr1.reshape(5,3,1)\n",
    "print(\"3D - Array \\n\",arr1)\n",
    "arr2 = np.zeros(12,dtype = int)\n",
    "arr2 = arr2.reshape(3,2,2)\n",
    "print(\"\\n3D - Array \\n\",arr2)"
   ]
  },
  {
   "cell_type": "code",
   "execution_count": 14,
   "metadata": {},
   "outputs": [
    {
     "name": "stdout",
     "output_type": "stream",
     "text": [
      "3D Array to 1D array:  [1 1 1 1 1 1 1 1 1 1 1 1 1 1 1]\n",
      "3D array to 1D array:  [0 0 0 0 0 0 0 0 0 0 0 0]\n"
     ]
    }
   ],
   "source": [
    "# Multidimensional array to 1-Dimensional array\n",
    "print(\"3D Array to 1D array: \",arr1.ravel())\n",
    "print(\"3D array to 1D array: \",arr2.ravel())"
   ]
  },
  {
   "cell_type": "code",
   "execution_count": 15,
   "metadata": {},
   "outputs": [
    {
     "name": "stdout",
     "output_type": "stream",
     "text": [
      "3D array:\n",
      " [[[1 1 1 1 1]\n",
      "  [1 1 1 1 1]]\n",
      "\n",
      " [[1 1 1 1 1]\n",
      "  [1 1 1 1 1]]\n",
      "\n",
      " [[1 1 1 1 1]\n",
      "  [1 1 1 1 1]]] \n",
      "\n",
      "Transpose:\n",
      " [[[1 1 1]\n",
      "  [1 1 1]]\n",
      "\n",
      " [[1 1 1]\n",
      "  [1 1 1]]\n",
      "\n",
      " [[1 1 1]\n",
      "  [1 1 1]]\n",
      "\n",
      " [[1 1 1]\n",
      "  [1 1 1]]\n",
      "\n",
      " [[1 1 1]\n",
      "  [1 1 1]]] \n",
      "\n",
      "2D array:\n",
      " [[0 0 0 0]\n",
      " [0 0 0 0]\n",
      " [0 0 0 0]] \n",
      "Transpose: \n",
      " [[0 0 0]\n",
      " [0 0 0]\n",
      " [0 0 0]\n",
      " [0 0 0]]\n"
     ]
    }
   ],
   "source": [
    "# Calculate transpose of a matrix\n",
    "arr1 = np.ones(30,dtype = int)\n",
    "arr1 = arr1.reshape(3,2,5)\n",
    "arr2 = np.zeros((3,4),dtype = int)\n",
    "print(\"3D array:\\n\",arr1,\"\\n\\nTranspose:\\n\",arr1.transpose(),\n",
    "      \"\\n\\n2D array:\\n\",arr2,\"\\nTranspose: \\n\",arr2.transpose())\n"
   ]
  },
  {
   "cell_type": "code",
   "execution_count": 16,
   "metadata": {},
   "outputs": [
    {
     "name": "stdout",
     "output_type": "stream",
     "text": [
      "[[ 1  3  5]\n",
      " [ 7  9 11]\n",
      " [13 15 17]] \n",
      "\n",
      " [[ 2  4  6]\n",
      " [ 8 10 12]\n",
      " [14 16 18]]\n"
     ]
    }
   ],
   "source": [
    "# Various operations that can be performed using numpy\n",
    "arr1 = np.arange(1,18,2).reshape(3,3)\n",
    "arr2 = np.arange(2,19,2).reshape(3,3)\n",
    "print(arr1,\"\\n\\n\",arr2)"
   ]
  },
  {
   "cell_type": "code",
   "execution_count": 17,
   "metadata": {},
   "outputs": [
    {
     "name": "stdout",
     "output_type": "stream",
     "text": [
      "Sum of array1 and array2: \n",
      " [[ 3  7 11]\n",
      " [15 19 23]\n",
      " [27 31 35]]\n",
      "\n",
      "Difference between array1 and array2: \n",
      " [[1 1 1]\n",
      " [1 1 1]\n",
      " [1 1 1]]\n",
      "\n",
      "Division of array1 and array2: \n",
      " [[2.         1.33333333 1.2       ]\n",
      " [1.14285714 1.11111111 1.09090909]\n",
      " [1.07692308 1.06666667 1.05882353]]\n",
      "\n",
      "Multiplication of array1 and array2 element by element: \n",
      " [[  2  12  30]\n",
      " [ 56  90 132]\n",
      " [182 240 306]]\n",
      "\n",
      "Matrix multiplication of arr1 and arr2: \n",
      " [[ 96 114 132]\n",
      " [240 294 348]\n",
      " [384 474 564]]\n"
     ]
    }
   ],
   "source": [
    "#Addition\n",
    "print(\"Sum of array1 and array2: \\n\",arr1+arr2)\n",
    "#Substraction\n",
    "print(\"\\nDifference between array1 and array2: \\n\",arr2 - arr1)\n",
    "#Division\n",
    "print(\"\\nDivision of array1 and array2: \\n\",arr2/arr1)\n",
    "#Multiplication of each element of one matrix to another\n",
    "print(\"\\nMultiplication of array1 and array2 element by element: \\n\",arr1*arr2)\n",
    "#Matrix multiplication\n",
    "print(\"\\nMatrix multiplication of arr1 and arr2: \\n\",arr1@arr2)"
   ]
  },
  {
   "cell_type": "code",
   "execution_count": 18,
   "metadata": {},
   "outputs": [
    {
     "name": "stdout",
     "output_type": "stream",
     "text": [
      "Largest value in arr1:  17 \n",
      "Largest value in arr2:  18\n",
      "\n",
      "Smallest value in arr1:  1 \n",
      "Smallest value in arr2:  2\n",
      "\n",
      "Index of the largest element in a arr1:  8 \n",
      "Index of the largest element in arr2:  8\n",
      "\n",
      "Index of the smallest element in a arr1:  0 \n",
      "Index of the smallest element in arr2:  0\n",
      "\n",
      "Largest element for each column of arr1:  [13 15 17]\n",
      "Largest element for each column of arr2:  [14 16 18]\n",
      "\n",
      "Smallest element for each column of arr1:  [1 3 5]\n",
      "Smallest element for each column of arr2:  [2 4 6]\n",
      "\n",
      "Largest element for each row of arr1:  [ 5 11 17]\n",
      "Largest element for each row of arr2:  [ 6 12 18]\n",
      "\n",
      "Smallest element for each row of arr1:  [ 1  7 13]\n",
      "Smallest element for each row of arr2:  [ 2  8 14]\n"
     ]
    }
   ],
   "source": [
    "# Find maximum value element in a matrix\n",
    "print(\"Largest value in arr1: \",arr1.max(),\"\\nLargest value in arr2: \",arr2.max())\n",
    "# Find minimum value element in a matrix\n",
    "print(\"\\nSmallest value in arr1: \",arr1.min(),\"\\nSmallest value in arr2: \",arr2.min())\n",
    "# Find index of the maximum value element in a matrix\n",
    "print(\"\\nIndex of the largest element in a arr1: \",arr1.argmax(),\n",
    "      \"\\nIndex of the largest element in arr2: \",arr2.argmax())\n",
    "# Find index of the minimum value element in a matrix\n",
    "print(\"\\nIndex of the smallest element in a arr1: \",arr1.argmin(),\n",
    "      \"\\nIndex of the smallest element in arr2: \",arr2.argmin())\n",
    "#Find maximum value element in a matrix for a particular column(for column use axis = 0)\n",
    "print(\"\\nLargest element for each column of arr1: \",arr1.max(axis = 0))\n",
    "print(\"Largest element for each column of arr2: \",arr2.max(axis = 0))\n",
    "#Find minimum value element in a matrix for a particular column(for column use axis = 0)\n",
    "print(\"\\nSmallest element for each column of arr1: \",arr1.min(axis = 0))\n",
    "print(\"Smallest element for each column of arr2: \",arr2.min(axis=0))\n",
    "# Find the maximum element in a matrix for a particular row(for row use axis = 1)\n",
    "print(\"\\nLargest element for each row of arr1: \",arr1.max(axis = 1))\n",
    "print(\"Largest element for each row of arr2: \",arr2.max(axis = 1))\n",
    "# Find the minimum element in a matrix for a particular row(for row use axis = 1)\n",
    "print(\"\\nSmallest element for each row of arr1: \",arr1.min(axis = 1))\n",
    "print(\"Smallest element for each row of arr2: \",arr2.min(axis = 1))\n"
   ]
  },
  {
   "cell_type": "code",
   "execution_count": 19,
   "metadata": {},
   "outputs": [
    {
     "name": "stdout",
     "output_type": "stream",
     "text": [
      "Sum of arr1:  81 \n",
      "Sum of arr2:  90\n",
      "\n",
      "Sum of each row of arr1:  [ 9 27 45] \n",
      "Sum of each row of arr2:  [12 30 48]\n",
      "\n",
      "Sum of each column of arr1:  [21 27 33] \n",
      "Sum of each column of arr2:  [24 30 36]\n"
     ]
    }
   ],
   "source": [
    "# To find the sum of each element in a matrix\n",
    "print(\"Sum of arr1: \",np.sum(arr1),\"\\nSum of arr2: \",np.sum(arr2))\n",
    "# To find the sum of each element in a row of a matrix\n",
    "print(\"\\nSum of each row of arr1: \",np.sum(arr1,axis = 1),\"\\nSum of each row of arr2: \",np.sum(arr2,axis = 1))\n",
    "# To print sum of each element in a column of a matrix\n",
    "print(\"\\nSum of each column of arr1: \",np.sum(arr1,axis=0),\"\\nSum of each column of arr2: \",np.sum(arr2,axis = 0))"
   ]
  },
  {
   "cell_type": "code",
   "execution_count": 20,
   "metadata": {},
   "outputs": [
    {
     "name": "stdout",
     "output_type": "stream",
     "text": [
      "Mean of arr1:  9.0 \n",
      "Mean of arr2:  10.0\n",
      "\n",
      "Mean of each row of arr1:  [ 3  9 15] \n",
      "Mean of each row of arr2:  [ 4 10 16]\n",
      "\n",
      "Mean of each column of arr1:  [ 7  9 11] \n",
      "Mean of each column of arr2:  [ 8 10 12]\n"
     ]
    }
   ],
   "source": [
    "#To find mean of a matrix\n",
    "print(\"Mean of arr1: \",np.mean(arr1),\"\\nMean of arr2: \",np.mean(arr2))\n",
    "# To find mean of each row in a matrix\n",
    "print(\"\\nMean of each row of arr1: \",np.mean(arr1,axis = 1,dtype = int),\n",
    "      \"\\nMean of each row of arr2: \",np.mean(arr2,axis=1,dtype = int))\n",
    "# To print mean of each column in a matrix\n",
    "print(\"\\nMean of each column of arr1: \",np.mean(arr1,axis=0,dtype=int),\n",
    "     \"\\nMean of each column of arr2: \",np.mean(arr2,axis = 0,dtype = int))"
   ]
  },
  {
   "cell_type": "code",
   "execution_count": 21,
   "metadata": {},
   "outputs": [
    {
     "name": "stdout",
     "output_type": "stream",
     "text": [
      "Square root of each element of arr1: \n",
      " [[1.         1.73205081 2.23606798]\n",
      " [2.64575131 3.         3.31662479]\n",
      " [3.60555128 3.87298335 4.12310563]]\n",
      "\n",
      "Square root of each element of arr2: \n",
      " [[1.41421356 2.         2.44948974]\n",
      " [2.82842712 3.16227766 3.46410162]\n",
      " [3.74165739 4.         4.24264069]]\n"
     ]
    }
   ],
   "source": [
    "# Find the square root of each element in an array\n",
    "print(\"Square root of each element of arr1: \\n\",np.sqrt(arr1))\n",
    "print(\"\\nSquare root of each element of arr2: \\n\",np.sqrt(arr2))"
   ]
  },
  {
   "cell_type": "code",
   "execution_count": 22,
   "metadata": {},
   "outputs": [
    {
     "name": "stdout",
     "output_type": "stream",
     "text": [
      "Exponent of each element of arr1: \n",
      " [[2.71828183e+00 2.00855369e+01 1.48413159e+02]\n",
      " [1.09663316e+03 8.10308393e+03 5.98741417e+04]\n",
      " [4.42413392e+05 3.26901737e+06 2.41549528e+07]]\n",
      "Exponent of each element of arr2: \n",
      " [[7.38905610e+00 5.45981500e+01 4.03428793e+02]\n",
      " [2.98095799e+03 2.20264658e+04 1.62754791e+05]\n",
      " [1.20260428e+06 8.88611052e+06 6.56599691e+07]]\n"
     ]
    }
   ],
   "source": [
    "# Finding exponent of each element in an array\n",
    "print(\"Exponent of each element of arr1: \\n\",np.exp(arr1))\n",
    "print(\"Exponent of each element of arr2: \\n\",np.exp(arr2))"
   ]
  },
  {
   "cell_type": "code",
   "execution_count": 23,
   "metadata": {},
   "outputs": [
    {
     "name": "stdout",
     "output_type": "stream",
     "text": [
      "Natural log of each element of arr1: \n",
      " [[0.         1.09861229 1.60943791]\n",
      " [1.94591015 2.19722458 2.39789527]\n",
      " [2.56494936 2.7080502  2.83321334]]\n",
      "Natural log of each element of arr2: \n",
      " [[0.69314718 1.38629436 1.79175947]\n",
      " [2.07944154 2.30258509 2.48490665]\n",
      " [2.63905733 2.77258872 2.89037176]]\n"
     ]
    }
   ],
   "source": [
    "#Find natural log for each element in an array\n",
    "print(\"Natural log of each element of arr1: \\n\",np.log(arr1))\n",
    "print(\"Natural log of each element of arr2: \\n\",np.log(arr2))"
   ]
  },
  {
   "cell_type": "code",
   "execution_count": 24,
   "metadata": {},
   "outputs": [
    {
     "name": "stdout",
     "output_type": "stream",
     "text": [
      "Log base 10 for each element in arr1: \n",
      " [[0.         0.47712125 0.69897   ]\n",
      " [0.84509804 0.95424251 1.04139269]\n",
      " [1.11394335 1.17609126 1.23044892]]\n",
      "Log base 10 for each element in arr2: \n",
      " [[0.30103    0.60205999 0.77815125]\n",
      " [0.90308999 1.         1.07918125]\n",
      " [1.14612804 1.20411998 1.25527251]]\n"
     ]
    }
   ],
   "source": [
    "#Find log base 10 for each element in an array\n",
    "print(\"Log base 10 for each element in arr1: \\n\",np.log10(arr1))\n",
    "print(\"Log base 10 for each element in arr2: \\n\",np.log10(arr2))"
   ]
  },
  {
   "cell_type": "code",
   "execution_count": 25,
   "metadata": {},
   "outputs": [
    {
     "name": "stdout",
     "output_type": "stream",
     "text": [
      "[[  1   2   3   4   5   6   7   8   9  10]\n",
      " [ 11  12  13  14  15  16  17  18  19  20]\n",
      " [ 21  22  23  24  25  26  27  28  29  30]\n",
      " [ 31  32  33  34  35  36  37  38  39  40]\n",
      " [ 41  42  43  44  45  46  47  48  49  50]\n",
      " [ 51  52  53  54  55  56  57  58  59  60]\n",
      " [ 61  62  63  64  65  66  67  68  69  70]\n",
      " [ 71  72  73  74  75  76  77  78  79  80]\n",
      " [ 81  82  83  84  85  86  87  88  89  90]\n",
      " [ 91  92  93  94  95  96  97  98  99 100]] \n",
      "\n",
      " [[  1   2   3   4   5   6   7   8   9  10]\n",
      " [ 11  12  13  14  15  16  17  18  19  20]\n",
      " [ 21  22  23  24  25  26  27  28  29  30]\n",
      " [ 31  32  33  34  35  36  37  38  39  40]\n",
      " [ 41  42  43  44  45  46  47  48  49  50]\n",
      " [ 51  52  53  54  55  56  57  58  59  60]\n",
      " [ 61  62  63  64  65  66  67  68  69  70]\n",
      " [ 71  72  73  74  75  76  77  78  79  80]\n",
      " [ 81  82  83  84  85  86  87  88  89  90]\n",
      " [ 91  92  93  94  95  96  97  98  99 100]] \n",
      "\n",
      " [[  1   2   3   4   5   6   7   8   9  10]\n",
      " [ 11  12  13  14  15  16  17  18  19  20]\n",
      " [ 21  22  23  24  25  26  27  28  29  30]\n",
      " [ 31  32  33  34  35  36  37  38  39  40]\n",
      " [ 41  42  43  44  45  46  47  48  49  50]\n",
      " [ 51  52  53  54  55  56  57  58  59  60]\n",
      " [ 61  62  63  64  65  66  67  68  69  70]\n",
      " [ 71  72  73  74  75  76  77  78  79  80]\n",
      " [ 81  82  83  84  85  86  87  88  89  90]\n",
      " [ 91  92  93  94  95  96  97  98  99 100]] \n",
      "\n",
      " [[  1   2   3   4   5   6   7   8   9  10]\n",
      " [ 11  12  13  14  15  16  17  18  19  20]\n",
      " [ 21  22  23  24  25  26  27  28  29  30]\n",
      " [ 31  32  33  34  35  36  37  38  39  40]\n",
      " [ 41  42  43  44  45  46  47  48  49  50]\n",
      " [ 51  52  53  54  55  56  57  58  59  60]\n",
      " [ 61  62  63  64  65  66  67  68  69  70]\n",
      " [ 71  72  73  74  75  76  77  78  79  80]\n",
      " [ 81  82  83  84  85  86  87  88  89  90]\n",
      " [ 91  92  93  94  95  96  97  98  99 100]]\n"
     ]
    }
   ],
   "source": [
    "#Create an array and use slicing function in it\n",
    "arr1 = np.arange(1,101).reshape(10,10)\n",
    "#Various methods of printing the whole array\n",
    "print(arr1,\"\\n\\n\",arr1[:],\"\\n\\n\",arr1[::],\"\\n\\n\",arr1[:,:])"
   ]
  },
  {
   "cell_type": "code",
   "execution_count": 26,
   "metadata": {},
   "outputs": [
    {
     "name": "stdout",
     "output_type": "stream",
     "text": [
      "[[ 1  2  3  4  5  6  7  8  9 10]]\n",
      "\n",
      " [[ 10]\n",
      " [ 20]\n",
      " [ 30]\n",
      " [ 40]\n",
      " [ 50]\n",
      " [ 60]\n",
      " [ 70]\n",
      " [ 80]\n",
      " [ 90]\n",
      " [100]]\n",
      "\n",
      " [[34 35]\n",
      " [44 45]]\n",
      "\n",
      " 69  dimensions==>  0\n",
      "\n",
      " [[69]] dimensions==>  2\n"
     ]
    }
   ],
   "source": [
    "#Slicing an array to get first row of the array\n",
    "print(arr1[0:1,:])\n",
    "#Slicing an array to get last column of the array\n",
    "print(\"\\n\",arr1[:,9:10])\n",
    "#Slice an array \n",
    "print(\"\\n\",arr1[3:5,3:5])\n",
    "# Slice a single element in the form of scalar\n",
    "print(\"\\n\",arr1[6,8],\" dimensions==> \",arr1[6,8].ndim)\n",
    "#Slice a single element in the form of a 2D \n",
    "print(\"\\n\",arr1[6:7,8:9],\"dimensions==> \",arr1[6:7,8:9].ndim)"
   ]
  },
  {
   "cell_type": "code",
   "execution_count": 27,
   "metadata": {},
   "outputs": [
    {
     "name": "stdout",
     "output_type": "stream",
     "text": [
      "Using concatenate function\n",
      "\n",
      "Default concatenate(column wise)\n",
      " [[ 1  3  5  7]\n",
      " [ 9 11 13 15]\n",
      " [17 19 21 23]\n",
      " [25 27 29 31]\n",
      " [ 2  4  6  8]\n",
      " [10 12 14 16]\n",
      " [18 20 22 24]\n",
      " [26 28 30 32]]\n",
      "\n",
      "Row wise concatenation\n",
      " [[ 1  3  5  7  2  4  6  8]\n",
      " [ 9 11 13 15 10 12 14 16]\n",
      " [17 19 21 23 18 20 22 24]\n",
      " [25 27 29 31 26 28 30 32]]\n",
      "\n",
      "\n",
      "Using vstack or hstack function\n",
      "\n",
      "Column wise concatenation\n",
      " [[ 1  3  5  7]\n",
      " [ 9 11 13 15]\n",
      " [17 19 21 23]\n",
      " [25 27 29 31]\n",
      " [ 2  4  6  8]\n",
      " [10 12 14 16]\n",
      " [18 20 22 24]\n",
      " [26 28 30 32]]\n",
      "\n",
      "Row wise concatenation\n",
      " [[ 1  3  5  7  2  4  6  8]\n",
      " [ 9 11 13 15 10 12 14 16]\n",
      " [17 19 21 23 18 20 22 24]\n",
      " [25 27 29 31 26 28 30 32]]\n"
     ]
    }
   ],
   "source": [
    "# Concatenation of two numpy arrays\n",
    "arr1 = np.arange(1,32,2).reshape(4,4)\n",
    "arr2 = np.arange(2,34,2).reshape(4,4)\n",
    "#method 1:\n",
    "print(\"Using concatenate function\\n\")\n",
    "print(\"Default concatenate(column wise)\\n\",np.concatenate((arr1,arr2)))\n",
    "print(\"\\nRow wise concatenation\\n\",np.concatenate((arr1,arr2),axis=1))\n",
    "#method 2:\n",
    "print(\"\\n\\nUsing vstack or hstack function\\n\")\n",
    "print(\"Column wise concatenation\\n\",np.vstack((arr1,arr2)))\n",
    "print(\"\\nRow wise concatenation\\n\",np.hstack((arr1,arr2)))"
   ]
  },
  {
   "cell_type": "code",
   "execution_count": 28,
   "metadata": {},
   "outputs": [
    {
     "name": "stdout",
     "output_type": "stream",
     "text": [
      "[array([[1, 3, 5, 7]]), array([[ 9, 11, 13, 15]]), array([[17, 19, 21, 23]]), array([[25, 27, 29, 31]])]\n",
      "\n",
      " <class 'list'>\n",
      "\n",
      " [array([[ 1],\n",
      "       [ 9],\n",
      "       [17],\n",
      "       [25]]), array([[ 3],\n",
      "       [11],\n",
      "       [19],\n",
      "       [27]]), array([[ 5],\n",
      "       [13],\n",
      "       [21],\n",
      "       [29]]), array([[ 7],\n",
      "       [15],\n",
      "       [23],\n",
      "       [31]])]\n",
      "\n",
      " [array([[ 1,  3],\n",
      "       [ 9, 11],\n",
      "       [17, 19],\n",
      "       [25, 27]]), array([[ 5],\n",
      "       [13],\n",
      "       [21],\n",
      "       [29]]), array([[ 7],\n",
      "       [15],\n",
      "       [23],\n",
      "       [31]])]\n"
     ]
    }
   ],
   "source": [
    "#Use split function to split an array into 4 parts\n",
    "print(np.split(arr1,4))\n",
    "# When we split an array it gets compressed into a list\n",
    "print(\"\\n\",type(np.split(arr1,4)))\n",
    "#Use split fi=unction to split an array vertically into 4 parts\n",
    "print(\"\\n\",np.split(arr1,4,axis = 1))\n",
    "#Use split function to split an array into 3 parts\n",
    "print(\"\\n\",np.split(arr1,[2,3],axis=1))"
   ]
  },
  {
   "cell_type": "code",
   "execution_count": 47,
   "metadata": {},
   "outputs": [
    {
     "name": "stdout",
     "output_type": "stream",
     "text": [
      "1D array\n",
      " [0.34442968 0.78848845 0.28640974]\n",
      "2D array\n",
      " [[0.10533266 0.1153123  0.02652191 0.97126495 0.65179335]\n",
      " [0.91849595 0.99654166 0.89298182 0.37373256 0.90288872]\n",
      " [0.02722049 0.45331119 0.1215341  0.22426197 0.71018528]\n",
      " [0.23658204 0.51158181 0.84879586 0.07786144 0.63251546]]\n",
      "2D array with whole numbers as elements\n",
      " [[40 13 87]\n",
      " [52 72 78]\n",
      " [36  7 42]]\n",
      "3D array with whole number as element\n",
      " [[[56 72 54]\n",
      "  [62 93 98]\n",
      "  [35 14 55]]\n",
      "\n",
      " [[84 18 63]\n",
      "  [74 15 40]\n",
      "  [ 9 45 73]]]\n",
      "2D array with positive and negative numbers as elements\n",
      " [[-0.24972231 -0.40408516 -1.57830434]\n",
      " [ 0.47225721  0.16801902 -0.15387757]\n",
      " [-1.06863981 -0.73991034 -0.53515848]]\n"
     ]
    }
   ],
   "source": [
    "#Create an array using random function\n",
    "import random\n",
    "print(\"1D array\\n\",np.random.random(3))\n",
    "print(\"2D array\\n\",np.random.random((4,5)))\n",
    "print(\"2D array with whole numbers as elements\\n\",np.random.randint(0,100,(3,3)))\n",
    "print(\"3D array with whole number as element\\n\",np.random.randint(0,100,(2,3,3)))\n",
    "print(\"2D array with positive and negative numbers as elements\\n\",np.random.randn(3,3))"
   ]
  },
  {
   "cell_type": "code",
   "execution_count": null,
   "metadata": {},
   "outputs": [],
   "source": []
  },
  {
   "cell_type": "code",
   "execution_count": null,
   "metadata": {},
   "outputs": [],
   "source": []
  }
 ],
 "metadata": {
  "kernelspec": {
   "display_name": "Python 3",
   "language": "python",
   "name": "python3"
  },
  "language_info": {
   "codemirror_mode": {
    "name": "ipython",
    "version": 3
   },
   "file_extension": ".py",
   "mimetype": "text/x-python",
   "name": "python",
   "nbconvert_exporter": "python",
   "pygments_lexer": "ipython3",
   "version": "3.8.8"
  }
 },
 "nbformat": 4,
 "nbformat_minor": 4
}

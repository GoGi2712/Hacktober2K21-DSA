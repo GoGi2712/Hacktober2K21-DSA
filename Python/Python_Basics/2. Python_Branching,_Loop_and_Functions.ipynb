{
  "nbformat": 4,
  "nbformat_minor": 0,
  "metadata": {
    "colab": {
      "name": "Python Branching, Loop and Functions.ipynb",
      "provenance": [],
      "collapsed_sections": []
    },
    "kernelspec": {
      "name": "python3",
      "display_name": "Python 3"
    },
    "language_info": {
      "name": "python"
    }
  },
  "cells": [
    {
      "cell_type": "markdown",
      "metadata": {
        "id": "LYvoNWDvvwiM"
      },
      "source": [
        "##If-else Statement"
      ]
    },
    {
      "cell_type": "code",
      "metadata": {
        "colab": {
          "base_uri": "https://localhost:8080/"
        },
        "id": "A226V5ITsVGu",
        "outputId": "b9db5d65-a608-48b5-f85d-cc47ff44b030"
      },
      "source": [
        "#If statement\n",
        "num = 54\n",
        "if (num>50):\n",
        "  print(\"Number greater than 50.\")\n",
        "print(\"number is: \",num)"
      ],
      "execution_count": null,
      "outputs": [
        {
          "output_type": "stream",
          "name": "stdout",
          "text": [
            "Number greater than 50.\n",
            "number is:  54\n"
          ]
        }
      ]
    },
    {
      "cell_type": "code",
      "metadata": {
        "colab": {
          "base_uri": "https://localhost:8080/"
        },
        "id": "QMTqQA1xv1KU",
        "outputId": "3810ee77-801a-4c1d-c3df-c78c3ae5b835"
      },
      "source": [
        "# If-else statement\n",
        "num = 14\n",
        "if(num>50):\n",
        "  print(\"Number greater than 50.\")\n",
        "else:\n",
        "  print(\"Number smaller than 50.\")"
      ],
      "execution_count": null,
      "outputs": [
        {
          "output_type": "stream",
          "name": "stdout",
          "text": [
            "Number smaller than 50.\n"
          ]
        }
      ]
    },
    {
      "cell_type": "code",
      "metadata": {
        "colab": {
          "base_uri": "https://localhost:8080/"
        },
        "id": "Erzy9e6hwQZm",
        "outputId": "c340c2ef-a85e-486a-a8c4-0bd2202fa27f"
      },
      "source": [
        "# 'in' statement with If-else\n",
        "list1 = ['Jack','Micheal','Joe','Elina','Katherine']\n",
        "if('Jack' in list1):\n",
        "  print(\"Jack in List.\")\n",
        "else:\n",
        "  print(\"Jack not in list.\")\n"
      ],
      "execution_count": null,
      "outputs": [
        {
          "output_type": "stream",
          "name": "stdout",
          "text": [
            "Jack in List.\n"
          ]
        }
      ]
    },
    {
      "cell_type": "code",
      "metadata": {
        "colab": {
          "base_uri": "https://localhost:8080/"
        },
        "id": "eEpCc9a_yp-f",
        "outputId": "ac2c194b-2089-4e40-f0ba-7237b6b9f223"
      },
      "source": [
        "#Using combination of if-elif-else\n",
        "tpl = ('Clay','Brandon','Justin','Alisha','Jessica','Katherine')\n",
        "if('Clay' and 'Dylan' in tpl):\n",
        "  print(\"Clay and Dylan are available\")\n",
        "elif('Katherine' and 'Hannah' in tpl):\n",
        "  print(\"Katherine and Hannah are available.\")\n",
        "elif('Brandon' and 'Justin' in tpl):\n",
        "  print(\"Brandon and Justin are available.\")\n",
        "else:\n",
        "  print(\"No one is available.\")"
      ],
      "execution_count": null,
      "outputs": [
        {
          "output_type": "stream",
          "name": "stdout",
          "text": [
            "Brandon and Justin are available.\n"
          ]
        }
      ]
    },
    {
      "cell_type": "code",
      "metadata": {
        "id": "3rw7Bmq10hpc",
        "colab": {
          "base_uri": "https://localhost:8080/"
        },
        "outputId": "8fae9121-866f-4ee3-c2cf-e81ae0992be0"
      },
      "source": [
        "if []:\n",
        "  print(\"Empty list returns True.\")\n",
        "else:\n",
        "  print(\"Empty list returns False.\")"
      ],
      "execution_count": null,
      "outputs": [
        {
          "output_type": "stream",
          "name": "stdout",
          "text": [
            "Empty list returns False.\n"
          ]
        }
      ]
    },
    {
      "cell_type": "code",
      "metadata": {
        "colab": {
          "base_uri": "https://localhost:8080/"
        },
        "id": "jCNK7GNz4uXm",
        "outputId": "7bf8198b-e0bb-4e24-e3db-05d8793cb39d"
      },
      "source": [
        "if ():\n",
        "  print('Empty tuple return True')\n",
        "else:\n",
        "  print('Empty tuple return False')"
      ],
      "execution_count": null,
      "outputs": [
        {
          "output_type": "stream",
          "name": "stdout",
          "text": [
            "Empty tuple return False\n"
          ]
        }
      ]
    },
    {
      "cell_type": "code",
      "metadata": {
        "colab": {
          "base_uri": "https://localhost:8080/"
        },
        "id": "Mcxixa5x5ZxL",
        "outputId": "3396f4da-93d6-4311-f2a8-a5f570fe5f0a"
      },
      "source": [
        "#Using multiple if-elif-else statement\n",
        "tpl = ('Clay','Brandon','Justin','Alisha','Jessica','Katherine')\n",
        "if('Clay' in tpl):\n",
        "  print(\"Clay available\")\n",
        "  if('Dylan' in tpl):\n",
        "    print(\"Dylan Available\")\n",
        "  elif('Alisha' in tpl):\n",
        "      print(\"Alisha Available\")\n",
        "      if('Hannah' in tpl):\n",
        "        print(\"Hannah available\")\n",
        "      else:\n",
        "        print(\"N/A\")\n",
        "        \n"
      ],
      "execution_count": null,
      "outputs": [
        {
          "output_type": "stream",
          "name": "stdout",
          "text": [
            "Clay available\n",
            "Alisha Available\n",
            "N/A\n"
          ]
        }
      ]
    },
    {
      "cell_type": "code",
      "metadata": {
        "colab": {
          "base_uri": "https://localhost:8080/"
        },
        "id": "RbogJO0V7cey",
        "outputId": "1e45ce3e-0bba-4c97-9006-5f7775c276bc"
      },
      "source": [
        "if(2/2 == 2):\n",
        "  print(\"two\")\n",
        "elif(5/1 == 2):\n",
        "  print(\"two\")\n",
        "elif(0/1 == 2):\n",
        "  pass\n",
        "else:\n",
        "  print(\"Last value passed\")"
      ],
      "execution_count": null,
      "outputs": [
        {
          "output_type": "stream",
          "name": "stdout",
          "text": [
            "Last value passed\n"
          ]
        }
      ]
    },
    {
      "cell_type": "markdown",
      "metadata": {
        "id": "O6d_hXLDv4uS"
      },
      "source": [
        "## Iterations and Loops"
      ]
    },
    {
      "cell_type": "code",
      "metadata": {
        "colab": {
          "base_uri": "https://localhost:8080/"
        },
        "id": "yzwPNtMa-Llc",
        "outputId": "ff2346ee-cfdb-4f2d-8f60-68e43e704ef6"
      },
      "source": [
        "i=1\n",
        "while i<11:\n",
        "  print(i)\n",
        "  i = i+1"
      ],
      "execution_count": null,
      "outputs": [
        {
          "output_type": "stream",
          "name": "stdout",
          "text": [
            "1\n",
            "2\n",
            "3\n",
            "4\n",
            "5\n",
            "6\n",
            "7\n",
            "8\n",
            "9\n",
            "10\n"
          ]
        }
      ]
    },
    {
      "cell_type": "code",
      "metadata": {
        "colab": {
          "base_uri": "https://localhost:8080/"
        },
        "id": "7FxWifSXA-tA",
        "outputId": "46cf4321-1a12-474b-c466-a243002cefad"
      },
      "source": [
        "num = 1\n",
        "fact = 1\n",
        "while (num<=5):\n",
        "  fact = num*fact\n",
        "  num = num+1\n",
        "print(fact)"
      ],
      "execution_count": null,
      "outputs": [
        {
          "output_type": "stream",
          "name": "stdout",
          "text": [
            "120\n"
          ]
        }
      ]
    },
    {
      "cell_type": "code",
      "metadata": {
        "colab": {
          "base_uri": "https://localhost:8080/"
        },
        "id": "cPsWdwzLBfE8",
        "outputId": "9d8157cc-d6e3-4a5b-f2fd-6dbb91cf6128"
      },
      "source": [
        "point = '*'\n",
        "max_length = 7\n",
        "\n",
        "while(len(point)<=max_length):\n",
        "  print(point)\n",
        "  point = point+'*'\n",
        "\n",
        "while(len(point)>=1):\n",
        "  print(point)\n",
        "  point = point[:-1]\n",
        "  "
      ],
      "execution_count": null,
      "outputs": [
        {
          "output_type": "stream",
          "name": "stdout",
          "text": [
            "*\n",
            "**\n",
            "***\n",
            "****\n",
            "*****\n",
            "******\n",
            "*******\n",
            "********\n",
            "*******\n",
            "******\n",
            "*****\n",
            "****\n",
            "***\n",
            "**\n",
            "*\n"
          ]
        }
      ]
    },
    {
      "cell_type": "code",
      "metadata": {
        "id": "tGA5JPRNCt1i"
      },
      "source": [
        "point = '*'\n",
        "max_length = 7\n",
        "\n",
        "while(len(point)<=max_length):\n",
        "  print(point)\n",
        "  point = point+'*'\n",
        "\n",
        "while(len(point)>=1):\n",
        "  print(point)\n",
        "  point = point[:-1]"
      ],
      "execution_count": null,
      "outputs": []
    },
    {
      "cell_type": "code",
      "metadata": {
        "colab": {
          "base_uri": "https://localhost:8080/"
        },
        "id": "2gwMsGPkHKnY",
        "outputId": "2b8b86c3-9c18-47cf-9535-90d85147e23b"
      },
      "source": [
        "for i in range(7):\n",
        "  print(i)"
      ],
      "execution_count": null,
      "outputs": [
        {
          "output_type": "stream",
          "name": "stdout",
          "text": [
            "0\n",
            "1\n",
            "2\n",
            "3\n",
            "4\n",
            "5\n",
            "6\n"
          ]
        }
      ]
    },
    {
      "cell_type": "code",
      "metadata": {
        "colab": {
          "base_uri": "https://localhost:8080/"
        },
        "id": "NglGQvkeIHJe",
        "outputId": "aa6f24f9-8933-4631-f233-a85e07e3d0c4"
      },
      "source": [
        "for i in range(11,21):\n",
        "  print(i)"
      ],
      "execution_count": null,
      "outputs": [
        {
          "output_type": "stream",
          "name": "stdout",
          "text": [
            "11\n",
            "12\n",
            "13\n",
            "14\n",
            "15\n",
            "16\n",
            "17\n",
            "18\n",
            "19\n",
            "20\n"
          ]
        }
      ]
    },
    {
      "cell_type": "code",
      "metadata": {
        "colab": {
          "base_uri": "https://localhost:8080/"
        },
        "id": "H7nn6u8FITpK",
        "outputId": "a50dd4f2-7e09-4dd2-bf70-3affed57c6c0"
      },
      "source": [
        "for i in range(1,21,2):\n",
        "  print(i)"
      ],
      "execution_count": null,
      "outputs": [
        {
          "output_type": "stream",
          "name": "stdout",
          "text": [
            "1\n",
            "3\n",
            "5\n",
            "7\n",
            "9\n",
            "11\n",
            "13\n",
            "15\n",
            "17\n",
            "19\n"
          ]
        }
      ]
    },
    {
      "cell_type": "code",
      "metadata": {
        "colab": {
          "base_uri": "https://localhost:8080/"
        },
        "id": "_NJRIveGImhb",
        "outputId": "5c547bc6-77a8-4f81-82eb-22671c390099"
      },
      "source": [
        "for i in tpl:\n",
        "  print(i)"
      ],
      "execution_count": null,
      "outputs": [
        {
          "output_type": "stream",
          "name": "stdout",
          "text": [
            "Clay\n",
            "Brandon\n",
            "Justin\n",
            "Alisha\n",
            "Jessica\n",
            "Katherine\n"
          ]
        }
      ]
    },
    {
      "cell_type": "code",
      "metadata": {
        "colab": {
          "base_uri": "https://localhost:8080/"
        },
        "id": "T_Gt6uF6I-ri",
        "outputId": "694664af-6bcd-45f0-cb20-980b1a706602"
      },
      "source": [
        "lst = [{'name': 'Ray','cast':'Henry'},{'name':'Joe','cast':'Tommy'},{'nane':'Robert','cast':'Jimmy'}]\n",
        "for i in lst:\n",
        "  for key in i:\n",
        "    print(i[key])"
      ],
      "execution_count": null,
      "outputs": [
        {
          "output_type": "stream",
          "name": "stdout",
          "text": [
            "Ray\n",
            "Henry\n",
            "Joe\n",
            "Tommy\n",
            "Robert\n",
            "Jimmy\n"
          ]
        }
      ]
    },
    {
      "cell_type": "code",
      "metadata": {
        "colab": {
          "base_uri": "https://localhost:8080/"
        },
        "id": "7ifAM2BiUmBO",
        "outputId": "76cbf812-e2ea-48e0-ae85-bee5d52f1336"
      },
      "source": [
        "lst = [{'name': 'Ray','cast':'Henry'},{'name':'Joe','cast':'Tommy'},{'nane':'Robert','cast':'Jimmy'}]\n",
        "for i in lst:\n",
        "  print(\"Cast name: \",i.get('cast'))"
      ],
      "execution_count": null,
      "outputs": [
        {
          "output_type": "stream",
          "name": "stdout",
          "text": [
            "Cast name:  Henry\n",
            "Cast name:  Tommy\n",
            "Cast name:  Jimmy\n"
          ]
        }
      ]
    },
    {
      "cell_type": "code",
      "metadata": {
        "colab": {
          "base_uri": "https://localhost:8080/"
        },
        "id": "H2jAWvNFVVq2",
        "outputId": "95172860-e923-4195-867a-3e8ee3d1cd60"
      },
      "source": [
        "lst2 = ['Jimi Hendrix','Jimmy Page','Jeff Beck','Eddie Van Halen','BB King']\n",
        "for i in lst2:\n",
        "  if(i == 'Jimmy Page'):\n",
        "    print(i, \"--> favourite\" )\n",
        "  else:\n",
        "    print(i)"
      ],
      "execution_count": null,
      "outputs": [
        {
          "output_type": "stream",
          "name": "stdout",
          "text": [
            "Jimi Hendrix\n",
            "Jimmy Page --> favourite\n",
            "Jeff Beck\n",
            "Eddie Van Halen\n",
            "BB King\n"
          ]
        }
      ]
    },
    {
      "cell_type": "code",
      "metadata": {
        "colab": {
          "base_uri": "https://localhost:8080/"
        },
        "id": "lMq90XEeW74P",
        "outputId": "9e79ea3b-0697-45c8-d158-22fdb69e6ecf"
      },
      "source": [
        "# Use break statement to get out from a loop\n",
        "for i in lst2:\n",
        "  print(i)\n",
        "  if(i=='Eddie Van Halen'):\n",
        "    print(\"Found!!\")\n",
        "    break"
      ],
      "execution_count": null,
      "outputs": [
        {
          "output_type": "stream",
          "name": "stdout",
          "text": [
            "Jimi Hendrix\n",
            "Jimmy Page\n",
            "Jeff Beck\n",
            "Eddie Van Halen\n",
            "Found!!\n"
          ]
        }
      ]
    },
    {
      "cell_type": "code",
      "metadata": {
        "colab": {
          "base_uri": "https://localhost:8080/"
        },
        "id": "VuxDrwqvo8Jq",
        "outputId": "72058531-40b9-4f1c-9cd7-ffc8448d928e"
      },
      "source": [
        "# Continue statement is used to skip that iteration from the loop\n",
        "for i in lst2:\n",
        "  if(i == 'Jimmy Page'):\n",
        "    print(\"Jimmy Page --> my favourite\")\n",
        "    continue\n",
        "  print(i)"
      ],
      "execution_count": null,
      "outputs": [
        {
          "output_type": "stream",
          "name": "stdout",
          "text": [
            "Jimi Hendrix\n",
            "Jimmy Page --> my favourite\n",
            "Jeff Beck\n",
            "Eddie Van Halen\n",
            "BB King\n"
          ]
        }
      ]
    },
    {
      "cell_type": "code",
      "metadata": {
        "id": "I0kgPpK8p5kb"
      },
      "source": [
        "# Pass can be used to not run any statement inside the loop\n",
        "lst = [{'name': 'Ray','cast':'Henry'},{'name':'Joe','cast':'Tommy'},{'nane':'Robert','cast':'Jimmy'}]\n",
        "for i in lst:\n",
        "  pass"
      ],
      "execution_count": null,
      "outputs": []
    },
    {
      "cell_type": "code",
      "metadata": {
        "colab": {
          "base_uri": "https://localhost:8080/"
        },
        "id": "KJj6eXEWtYOw",
        "outputId": "c9646dd8-95e7-4340-e5dc-b58c3b72e18e"
      },
      "source": [
        "tpl1 = ('Evan','Thandiwe','Jeffery')\n",
        "lst1 = ['Dolores','Maeve','Bernard']\n",
        "for i in tpl1:\n",
        "  for j in lst1:\n",
        "    print(i,j)"
      ],
      "execution_count": null,
      "outputs": [
        {
          "output_type": "stream",
          "name": "stdout",
          "text": [
            "Evan Dolores\n",
            "Evan Maeve\n",
            "Evan Bernard\n",
            "Thandiwe Dolores\n",
            "Thandiwe Maeve\n",
            "Thandiwe Bernard\n",
            "Jeffery Dolores\n",
            "Jeffery Maeve\n",
            "Jeffery Bernard\n"
          ]
        }
      ]
    },
    {
      "cell_type": "markdown",
      "metadata": {
        "id": "BHNK_iFnwGV4"
      },
      "source": [
        "##Functions"
      ]
    },
    {
      "cell_type": "code",
      "metadata": {
        "id": "nl7S9NF2vWku"
      },
      "source": [
        "#simple function\n",
        "def greet():\n",
        "  print(\"Hello World!\")\n",
        "  print(\"This is a function.\")"
      ],
      "execution_count": null,
      "outputs": []
    },
    {
      "cell_type": "code",
      "metadata": {
        "colab": {
          "base_uri": "https://localhost:8080/"
        },
        "id": "YsypOJwHwlsO",
        "outputId": "51c77b50-6cc5-4f56-8712-ce6c18dcefef"
      },
      "source": [
        "greet()"
      ],
      "execution_count": null,
      "outputs": [
        {
          "output_type": "stream",
          "name": "stdout",
          "text": [
            "Hello World!\n",
            "This is a function.\n"
          ]
        }
      ]
    },
    {
      "cell_type": "code",
      "metadata": {
        "id": "7hBUI5AXwr7q"
      },
      "source": [
        "def cal(num1,num2):\n",
        "  print(num1,\"+\",num2,\" = \",num1+num2)\n",
        "  print(num1,\"-\",num2,\" = \",num1-num2)\n",
        "  print(num1,\"*\",num2,\" = \",num1*num2)\n",
        "  print(num1,\"/\",num2,\" = \",num1/num2)"
      ],
      "execution_count": null,
      "outputs": []
    },
    {
      "cell_type": "code",
      "metadata": {
        "colab": {
          "base_uri": "https://localhost:8080/"
        },
        "id": "-HG-hNm_xvVH",
        "outputId": "4510b89f-d530-420b-f4d7-3c0e4917230d"
      },
      "source": [
        "cal(5,10)"
      ],
      "execution_count": null,
      "outputs": [
        {
          "output_type": "stream",
          "name": "stdout",
          "text": [
            "5 + 10  =  15\n",
            "5 - 10  =  -5\n",
            "5 * 10  =  50\n",
            "5 / 10  =  0.5\n"
          ]
        }
      ]
    },
    {
      "cell_type": "code",
      "metadata": {
        "id": "AEQz8BTRx06E"
      },
      "source": [
        "def filter_even(lst):\n",
        "  even_lst = []\n",
        "  for i in lst:\n",
        "    if(i%2 == 0):\n",
        "      even_lst.append(i)\n",
        "  return even_lst"
      ],
      "execution_count": null,
      "outputs": []
    },
    {
      "cell_type": "code",
      "metadata": {
        "colab": {
          "base_uri": "https://localhost:8080/"
        },
        "id": "ePjcmUgDypuG",
        "outputId": "0e6cf085-a883-4d4a-bc4d-bd31db3095bb"
      },
      "source": [
        "result_list = filter_even([1,2,3,4,5,6,7,8,9,10])\n",
        "result_list"
      ],
      "execution_count": null,
      "outputs": [
        {
          "output_type": "execute_result",
          "data": {
            "text/plain": [
              "[2, 4, 6, 8, 10]"
            ]
          },
          "metadata": {},
          "execution_count": 71
        }
      ]
    },
    {
      "cell_type": "code",
      "metadata": {
        "id": "fXH9Qk4R4o4s"
      },
      "source": [
        "def loan_emi(amount,duration,downpayment=0):\n",
        "  loan_amount = amount-downpayment\n",
        "  emi = loan_amount/duration\n",
        "  return emi"
      ],
      "execution_count": null,
      "outputs": []
    },
    {
      "cell_type": "code",
      "metadata": {
        "colab": {
          "base_uri": "https://localhost:8080/"
        },
        "id": "lnbHJKfj5FNd",
        "outputId": "65caac9d-7c5e-4009-f82b-7bd7b407d9a2"
      },
      "source": [
        "emi1 = loan_emi(1260000,8*12,3e5)\n",
        "emi1"
      ],
      "execution_count": null,
      "outputs": [
        {
          "output_type": "execute_result",
          "data": {
            "text/plain": [
              "10000.0"
            ]
          },
          "metadata": {},
          "execution_count": 7
        }
      ]
    },
    {
      "cell_type": "code",
      "metadata": {
        "colab": {
          "base_uri": "https://localhost:8080/"
        },
        "id": "gIonxGYa5yvC",
        "outputId": "e9ad03c2-3d50-4bde-8357-972e48ebf35c"
      },
      "source": [
        "emi2 = loan_emi(1260000,8*12) #third argument not given but still works.\n",
        "emi2"
      ],
      "execution_count": null,
      "outputs": [
        {
          "output_type": "execute_result",
          "data": {
            "text/plain": [
              "13125.0"
            ]
          },
          "metadata": {},
          "execution_count": 8
        }
      ]
    },
    {
      "cell_type": "code",
      "metadata": {
        "id": "8pzUnnSu6D1i",
        "colab": {
          "base_uri": "https://localhost:8080/"
        },
        "outputId": "5fa951c3-edaa-4bff-fd6b-22f412a5186e"
      },
      "source": [
        "emi03 = loan_emi(amount=1260000,duration=6*12,downpayment=2e3)#\n",
        "emi03"
      ],
      "execution_count": null,
      "outputs": [
        {
          "output_type": "execute_result",
          "data": {
            "text/plain": [
              "17472.222222222223"
            ]
          },
          "metadata": {},
          "execution_count": 11
        }
      ]
    },
    {
      "cell_type": "code",
      "metadata": {
        "id": "b-lmXucwydxv"
      },
      "source": [
        "def divide(num1,num2):\n",
        "  result = 0\n",
        "  try:\n",
        "    result = num1/num2\n",
        "  except:\n",
        "    result = 0\n",
        "    print(\"Error in divide function\")\n",
        "  return result"
      ],
      "execution_count": null,
      "outputs": []
    },
    {
      "cell_type": "code",
      "metadata": {
        "colab": {
          "base_uri": "https://localhost:8080/"
        },
        "id": "eK_ygyUn08Ua",
        "outputId": "724af080-568c-42cf-c917-b57362f5c610"
      },
      "source": [
        "num1 = 3\n",
        "num2 = 2\n",
        "i = 1\n",
        "while i<5:\n",
        "  print(divide(num1,num2))\n",
        "  num1 = num1-1\n",
        "  num2 = num2-1\n",
        "  i = i+1"
      ],
      "execution_count": null,
      "outputs": [
        {
          "output_type": "stream",
          "name": "stdout",
          "text": [
            "1.5\n",
            "2.0\n",
            "Error in divide function\n",
            "0\n",
            "-0.0\n"
          ]
        }
      ]
    }
  ]
}